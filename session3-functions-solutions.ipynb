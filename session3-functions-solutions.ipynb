{
 "cells": [
  {
   "cell_type": "markdown",
   "id": "7bf40e06",
   "metadata": {
    "heading_collapsed": true
   },
   "source": [
    "# Mathematical Computing using Python - Session 3\n"
   ]
  },
  {
   "cell_type": "markdown",
   "id": "42d406a2",
   "metadata": {},
   "source": [
    "# Functions\n",
    "Throughout the previous worksheets, we have been using *functions* provided by Python or by modules like *numpy* or *mobilechelonian*. Functions are one of the key features of programming languages that allow us to write complex programs. When we talk about functions in programming, we mean something more general than in mathematics.\n",
    "A function is simply a piece of code that achieves a particular task, and is written in such a way that it can be *called* whenever that task needs to be done. One of the key skills in programming is splitting up a problem into smaller sub-problems (i.e. smaller problems) that can be solved by functions.\n",
    "Because functions are used to solve sub-problems, functions are sometimes called *subroutines* in other programming languages.\n",
    "\n",
    "Here's an example of how we can define a function to draw a square using a turtle."
   ]
  },
  {
   "cell_type": "code",
   "execution_count": null,
   "id": "52673ae1",
   "metadata": {},
   "outputs": [],
   "source": [
    "def draw_square(turt):\n",
    "    for i in range(4):\n",
    "        turt.forward(100)\n",
    "        turt.left(90)"
   ]
  },
  {
   "cell_type": "markdown",
   "id": "2e8261bb",
   "metadata": {},
   "source": [
    "Let's look at what this means.\n",
    "\n",
    "`def draw_square(turt):`\n",
    "\n",
    "This tells Python that we are defining a function (`def` is short for define) which is called `draw_square` and has a single *parameter* called `turt`. This means that we will be able to *call* the function `draw_square` by passing a single *argument* like so: `draw_square(terry)`. Inside the function, there will be a variable called `turt` which refers to whatever we called the function with. If we called `draw_square(terry)`, then you can think of `turt` being replaced by `terry` wherever it is used.\n",
    "\n",
    "The indented block of code\n",
    "```\n",
    "    for i in range(4):\n",
    "        turt.forward(100)\n",
    "        turt.left(90)\n",
    "```\n",
    "is called the *body* of the function. Whenever we call `draw_square`, the lines of code in the body are run, but `turt` will refer to whatever argument is given to the function. \n",
    "Note that we could call `draw_square` with **any** single argument.\n",
    "Because it doesn't make sense to call `forward` or `left` on things that aren't turtles, we will get a runtime error if we try to call `draw_square` with something that isn't a turtle.\n",
    "\n",
    "We can call the function like so:"
   ]
  },
  {
   "cell_type": "code",
   "execution_count": null,
   "id": "9b058486",
   "metadata": {},
   "outputs": [],
   "source": [
    "from mobilechelonian import Turtle\n",
    "terry = Turtle()\n",
    "terry.speed(3)       # make terry move faster so we don't have to wait as long\n",
    "draw_square(terry)"
   ]
  },
  {
   "cell_type": "markdown",
   "id": "3298a10e",
   "metadata": {},
   "source": [
    "So far this hasn't saved us any effort - we might as well have just written the code that draws the square like we did in the previous worksheets. The savings occur when we use the function more than once:"
   ]
  },
  {
   "cell_type": "code",
   "execution_count": null,
   "id": "81d890b1",
   "metadata": {},
   "outputs": [],
   "source": [
    "terry = Turtle()\n",
    "terry.speed(3)\n",
    "terry.pencolor(\"orange\")     # anything terry draws will now be orange\n",
    "draw_square(terry)\n",
    "terry.right(90)\n",
    "terry.pencolor(\"green\")      # anything terry draws will now be green\n",
    "draw_square(terry)"
   ]
  },
  {
   "cell_type": "markdown",
   "id": "ece8d253",
   "metadata": {},
   "source": [
    "In the previous example, having the function `draw_square` allowed us to draw two squares without repeating many lines of code. Because we changed pen colors between the squares, it would have been awkward to achieve the same result using nested `for` loops.\n",
    "\n",
    "Functions have another major benefit, which makes them worth writing even if you only use them once. They are a natural way of splitting a problem into smaller parts, and they make it easier to test your code (since you can test each function individually). If you choose sensible function names, they also make your code easier to understand, since anyone reading your code can see what the function is supposed to accomplish.\n",
    "\n",
    "### Exercises\n",
    "#### 3.1\n",
    "Investigate what happens when you call `draw_square` with things that aren't a `Turtle` (for example, the number 3)."
   ]
  },
  {
   "cell_type": "code",
   "execution_count": null,
   "id": "11f7c8b5",
   "metadata": {},
   "outputs": [],
   "source": [
    "draw_square(3)"
   ]
  },
  {
   "cell_type": "markdown",
   "id": "4258e7fb",
   "metadata": {},
   "source": [
    "We get an error telling us that `'int' object has no attribute 'forward'`. This is because inside the function `turt` will now refer to the number 3, and we try to call `3.forward(100)`, which doesn't make sense."
   ]
  },
  {
   "cell_type": "markdown",
   "id": "1129977d",
   "metadata": {},
   "source": [
    "#### 3.2\n",
    "Write a function called `draw_pentagon` which has one parameter (a turtle) and uses the turtle to draw a pentagon."
   ]
  },
  {
   "cell_type": "code",
   "execution_count": null,
   "id": "553440d3",
   "metadata": {},
   "outputs": [],
   "source": [
    "def draw_pentagon(turtle):\n",
    "    for i in range(5):\n",
    "        turtle.forward(100)\n",
    "        turtle.left(360/5)\n",
    "\n",
    "# test the function\n",
    "terry = Turtle()\n",
    "terry.speed(5)\n",
    "draw_pentagon(terry)"
   ]
  },
  {
   "cell_type": "markdown",
   "id": "9ca6ad39",
   "metadata": {},
   "source": [
    "#### 3.3\n",
    "Write a function called `print_greetings` which takes one parameter `name` and prints a friendly greeting which involves the name. Remember you can `print` multiple things on the same line by calling `print` with multiple arguments."
   ]
  },
  {
   "cell_type": "code",
   "execution_count": null,
   "id": "1ab91214",
   "metadata": {},
   "outputs": [],
   "source": [
    "def print_greetings(name):\n",
    "    print(\"Hello there\", name)\n",
    "\n",
    "# test the function\n",
    "print_greetings(\"Finn\")"
   ]
  },
  {
   "cell_type": "markdown",
   "id": "696950d3",
   "metadata": {},
   "source": [
    "#### 3.4\n",
    "Write a function called `f` which has a single parameter `x`, and prints `f(x) = ` and the value of $f(x) = x^2 - 3x + 1$. Test your function with the values $x = 0.3$ and $x = 1$.\n",
    "\n",
    "**Note:** using `print` like this is **bad practice**, as we discuss after the exercise."
   ]
  },
  {
   "cell_type": "code",
   "execution_count": null,
   "id": "a0845377",
   "metadata": {},
   "outputs": [],
   "source": [
    "def f(x):\n",
    "    # please never do this\n",
    "    print(\"f(x) =\", x ** 2 - 3 * x + 1)\n",
    "\n",
    "# test the function\n",
    "f(0.3)\n",
    "f(1)"
   ]
  },
  {
   "cell_type": "markdown",
   "id": "e55dd691",
   "metadata": {},
   "source": [
    "While the previous exercise allows you to easily compute the values of $f(x)$ for different $x$, it is bad practice to simply print the results to the screen within functions like this. This is because Python cannot make use of the value we have computed: it is displayed on the screen, but impossible to use directly anywhere else in our program. \n",
    "\n",
    "It would also be bad practice to `print` anything in the function `draw_square`, since anyone who calls it hoping for a square to be drawn would also receive a message on their screen. In a large program with many functions, this could quickly result in a great deal of \"garbage\" output on the screen. The `print` statement in `print_greetings` is more acceptable since the explicit purpose of `print_greetings` is to output a message.\n",
    "\n",
    "This illustrates a general principle of writing functions: they should do exactly what they say they do, and no more. It is also usually best if they achieve one particular result, rather than doing many things. This makes functions more widely applicable, and results in fewer mistakes."
   ]
  },
  {
   "cell_type": "markdown",
   "id": "4c3892ad",
   "metadata": {},
   "source": [
    "# Return statements\n",
    "Return statements are a way of receiving output from a function to the rest of the program, rather than displaying the results to the screen. In the following example, we define the function `f` as above but `return` the result so it can be used elsewhere."
   ]
  },
  {
   "cell_type": "code",
   "execution_count": null,
   "id": "b86c9961",
   "metadata": {},
   "outputs": [],
   "source": [
    "def f(x):\n",
    "    return x ** 2 - 4 * x + 1\n",
    "print(\"f(0.3) =\", f(0.3))\n",
    "print(\"f(1) =\", f(1))\n",
    "print(\"f(0.3) * f(1) =\", f(0.3) * f(1))"
   ]
  },
  {
   "cell_type": "markdown",
   "id": "3b36e7c6",
   "metadata": {},
   "source": [
    "### Exercises\n",
    "#### 3.5\n",
    "Define a function `g` which computes and returns $g(x) = e^x \\cdot \\sinh(x)$. Output the value of $g(0.5)$ without using any print statements."
   ]
  },
  {
   "cell_type": "code",
   "execution_count": null,
   "id": "77d91db0",
   "metadata": {},
   "outputs": [],
   "source": [
    "import numpy as np\n",
    "def g(x):\n",
    "    return np.exp(x) * np.sinh(x)"
   ]
  },
  {
   "cell_type": "code",
   "execution_count": null,
   "id": "cd379b85",
   "metadata": {},
   "outputs": [],
   "source": [
    "# output the value of g(0.5)\n",
    "g(0.5)"
   ]
  },
  {
   "cell_type": "markdown",
   "id": "d73b38b1",
   "metadata": {},
   "source": [
    "#### 3.6\n",
    "\n",
    "Define a function $h$ which computes and returns $h(x, y) = g(x) + xy^2$. Find the values of $h(2, 3)$ and $h(0.2, 4)$.\n",
    "\n",
    "**Note:** to define a function which has multiple parameters, you separate the parameters with commas. For example, a function taking two parameters is defined via `def function_name(param1, param2):`."
   ]
  },
  {
   "cell_type": "code",
   "execution_count": null,
   "id": "c0e4b59e",
   "metadata": {},
   "outputs": [],
   "source": [
    "def h(x, y):\n",
    "    # we will store the result in a variable then return it;\n",
    "    # we could also just return the answer directly \n",
    "    result = g(x) + x * (y ** 2)\n",
    "    return result"
   ]
  },
  {
   "cell_type": "code",
   "execution_count": null,
   "id": "cb0d6023",
   "metadata": {},
   "outputs": [],
   "source": [
    "h(2, 3)"
   ]
  },
  {
   "cell_type": "code",
   "execution_count": null,
   "id": "aa86963e",
   "metadata": {},
   "outputs": [],
   "source": [
    "h(0.2, 4)"
   ]
  },
  {
   "cell_type": "markdown",
   "id": "a0ddc7ee",
   "metadata": {},
   "source": [
    "# Invisible variables\n",
    "\n",
    "One crucial fact about functions is that variables that are created inside functions cannot be accessed from the outside. The following code cell gives an error, because we try to access a variable that only exists inside the function `sum_of_sin_powers`. We instead should be using the value `sum_of_sin_powers(np.pi, 3)` directly, or storing it in a variable."
   ]
  },
  {
   "cell_type": "code",
   "execution_count": null,
   "id": "0991a018",
   "metadata": {},
   "outputs": [],
   "source": [
    "import numpy as np\n",
    "# returns the sum of (sin(x))^i for i from 0 to n\n",
    "def sum_of_sin_powers(x, n):\n",
    "    total_sin_powers = 0\n",
    "    for i in range(n + 1):\n",
    "        total_sin_powers = total_sin_powers + np.sin(x)**i\n",
    "    return total_sin_powers\n",
    "sum_of_sin_powers(np.pi, 3)\n",
    "total_sin_powers"
   ]
  },
  {
   "cell_type": "markdown",
   "id": "3431b335",
   "metadata": {},
   "source": [
    "You can think of functions as \"black boxes\": from the perspective of the program, precisely what goes on inside a function is invisible. The program simply feeds them some input (the arguments), the box does something, and then it may or may not give some output (a `return` value).\n",
    "\n",
    "**Note:** while variables inside functions are hidden from the rest of the program, functions *can* access variables that exist in the rest of the program. If they change those variables, the effects will be seen in the rest of the program. This can be very confusing, and it is usually better to only rely on arguments passed to a function within the function.\n",
    "\n",
    "The principles governing when a given variable name is useable or not are called *scoping*, and for the moment we don't want you to get bogged down in them."
   ]
  },
  {
   "cell_type": "markdown",
   "id": "64869127",
   "metadata": {},
   "source": [
    "# Member functions\n",
    "When we tell a turtle to move forward by writing `turtle.forward(100)`, we are also calling a function. However, it looks different to calling `draw_square(turtle)` or `draw_pentagon(turtle)`. This is because `forward` is a *member* function of the `Turtle` *class*. In this workshop we won't discuss these terms any further or how to create member functions, other than to note that it would be possible to make `draw_square` into a member function and call it in the form `turtle.draw_square()`."
   ]
  },
  {
   "cell_type": "markdown",
   "id": "362e3d7d",
   "metadata": {},
   "source": [
    "# Additional Exercises"
   ]
  },
  {
   "cell_type": "markdown",
   "id": "4f62506c",
   "metadata": {},
   "source": [
    "#### 3.7\n",
    "Write a Python function for\n",
    "$$ f(x) = \\frac{\\sin(x)}{\\ln(\\cosh(x+1)+1)}, $$\n",
    "and use it to compute $f(1.0)$.\n",
    "\n",
    "**Note:** if you define a function name which already exists (like `f`, which was defined above), Python will forget about the old function. This can sometimes be confusing!"
   ]
  },
  {
   "cell_type": "code",
   "execution_count": null,
   "id": "930ca2c5",
   "metadata": {},
   "outputs": [],
   "source": [
    "def f(x):\n",
    "    return np.sin(x) / np.log(np.cosh(x + 1) + 1)"
   ]
  },
  {
   "cell_type": "code",
   "execution_count": null,
   "id": "90c9f162",
   "metadata": {},
   "outputs": [],
   "source": [
    "f(1.0)"
   ]
  },
  {
   "cell_type": "markdown",
   "id": "114e38a9",
   "metadata": {},
   "source": [
    "#### 3.8\n",
    "Write a Python function `z` representing the mathematical function\n",
    "\n",
    "$$z(x) = 1 + \\frac{1}{1 + x}.$$\n",
    "\n",
    "Use `z` to compute the first ten terms of the sequence defined by\n",
    "$$x_{n+1} = 1 + \\frac{1}{1 + x_n},$$\n",
    "where $x_0 = 1$. At each step, print the difference $x_n - \\sqrt 2$ along with a descriptive message of what you are printing."
   ]
  },
  {
   "cell_type": "code",
   "execution_count": null,
   "id": "df668528",
   "metadata": {},
   "outputs": [],
   "source": [
    "def z(x):\n",
    "    return 1 + 1 / (1 + x)"
   ]
  },
  {
   "cell_type": "code",
   "execution_count": null,
   "id": "968a1cfb",
   "metadata": {},
   "outputs": [],
   "source": [
    "# start our sequence at x = 1\n",
    "x = 1\n",
    "\n",
    "# print the first ten terms of the sequence\n",
    "for i in range(10):\n",
    "    # print the current element of the sequence\n",
    "    print(\"for i =\", i, \", x_i - sqrt(2) =\", x - np.sqrt(2))\n",
    "    # compute the next element of the sequence\n",
    "    x = z(x)"
   ]
  },
  {
   "cell_type": "markdown",
   "id": "4bd501aa",
   "metadata": {},
   "source": [
    "#### 3.9\n",
    "\n",
    "Using your code to draw regular $n$-agons from last worksheet, write a function `draw_regular_polygon` which has a parameter `t`, a turtle to draw with, and a parameter `n`, the number of sides of the polygon, and draws a regular `n`-agon using `t` starting from the current position of `t`. Use your function to draw a triangle, square, and pentagon, as in the previous worksheet. This should look like the image below.\n",
    "\n",
    "<img src=\"img/conc-corner-polygons.png\" width=\"175\" alt=\"A triangle, square, and pentagon drawn using a turtle, and sharing a common bottom-left corner.\">\n"
   ]
  },
  {
   "cell_type": "code",
   "execution_count": null,
   "id": "42eccfa9",
   "metadata": {},
   "outputs": [],
   "source": [
    "def draw_regular_polygon(t, n):\n",
    "    # we loop n times (the number of sides)\n",
    "    for i in range(n):\n",
    "        t.forward(80)\n",
    "        t.left(360 / n)   # exterior angle is 360/n\n",
    "\n",
    "terry = Turtle()\n",
    "terry.speed(5)\n",
    "\n",
    "# draw the three polygons\n",
    "for i in range(3, 6):\n",
    "    draw_regular_polygon(terry, i)"
   ]
  },
  {
   "cell_type": "markdown",
   "id": "32a4499b",
   "metadata": {},
   "source": [
    "#### 3.10\n",
    "Modify `draw_regular_polygon` to also take a parameter `s`, and use `s` as the side-length of the polygon. Use this function to draw a triangle of side length 150, a square of side length 90, and a pentagon of side length 50, all sharing a common bottom-left corner as in the image.\n",
    "\n",
    "<img src=\"img/different-size-polygons.png\" width=\"175\" alt=\"A triangle, square, and pentagon drawn using a turtle, sharing a common bottom-left corner, and with increasing sizes\">"
   ]
  },
  {
   "cell_type": "code",
   "execution_count": null,
   "id": "826a0451",
   "metadata": {},
   "outputs": [],
   "source": [
    "def draw_regular_polygon(t, n, s):\n",
    "    # we loop n times (the number of sides)\n",
    "    for i in range(n):\n",
    "        t.forward(s)      # move forward by s, the side length\n",
    "        t.left(360 / n)   # exterior angle is 360/n"
   ]
  },
  {
   "cell_type": "code",
   "execution_count": null,
   "id": "9a47d7dc",
   "metadata": {},
   "outputs": [],
   "source": [
    "terry = Turtle()\n",
    "terry.speed(5)\n",
    "\n",
    "# draw the three polygons\n",
    "draw_regular_polygon(terry, 3, 150)\n",
    "draw_regular_polygon(terry, 4, 90)\n",
    "draw_regular_polygon(terry, 5, 50)"
   ]
  },
  {
   "cell_type": "markdown",
   "id": "02cc0f36",
   "metadata": {},
   "source": [
    "#### 3.11\n",
    "Modify `draw_regular_polygon` so that you also provide two numbers `x` and `y` which represent the $(x,y)$-coordinates of the first corner of the polygon. Use this to draw three squares of side length 30, 40, and 60. The first polygon should start in the center of the turtle's area, and the other two squares should each start at the top-right corner of the previous square as in the image.\n",
    "\n",
    "\n",
    "<img src=\"img/three-squares.png\" width=\"175\" alt=\"Three squares drawn using a turtle. The squares share a diagonal from the centre of the screen to the top-right, and the squares have increasing sizes.\">\n",
    "\n",
    "\n",
    "**Note:** you can use `turtle.setposition(x_coordinate, y_coordinate)` to move `turtle` to the correct position. The center of the area is at $(200, 200)$, and the coordinates are measured from the top-left corner. This means that going right increases the $x$-coordinate and going up **decreases** the $y$-coordinate.\n",
    "\n",
    "You can stop `turtle` from leaving behind a trail by calling `turtle.penup()`, and start leaving a trail again with `turtle.pendown()`."
   ]
  },
  {
   "cell_type": "code",
   "execution_count": null,
   "id": "0a892cf7",
   "metadata": {},
   "outputs": [],
   "source": [
    "def draw_regular_polygon(t, n, s, x, y):\n",
    "    # stop tracing\n",
    "    t.penup()\n",
    "    \n",
    "    # move to the start position\n",
    "    t.setposition(x, y)\n",
    "    \n",
    "    # start tracing again\n",
    "    t.pendown()\n",
    "\n",
    "    # draw the n sides of the polygon\n",
    "    for i in range(n):\n",
    "        t.forward(s)      # move forward by s, the side length\n",
    "        t.left(360/n)     # exterior angle is 360/n\n",
    "\n",
    "terry = Turtle()\n",
    "terry.speed(5)\n",
    "\n",
    "# Draw the three squares.\n",
    "# Coordinates calculated by hand.\n",
    "# Remember they are measured from the top-left corner!\n",
    "draw_regular_polygon(terry, 4, 30, 200, 200)\n",
    "draw_regular_polygon(terry, 4, 40, 230, 170)\n",
    "draw_regular_polygon(terry, 4, 60, 270, 130)"
   ]
  },
  {
   "cell_type": "markdown",
   "id": "f2a978cc",
   "metadata": {},
   "source": [
    "#### 3.12\n",
    "Write a function `composed` which takes as arguments two functions `f` and `g` and some value `x`, and returns $f\\circ g (x)$. Make sure you get the order correct! Test that your function works properly when `f = sin`, `g = arcsin`, and `x = 0.5`. Also test your function for $f = \\sin$, $g(x) = x^ 2$, and $x = \\sqrt\\frac{\\pi}{2}$."
   ]
  },
  {
   "cell_type": "code",
   "execution_count": null,
   "id": "e5368056",
   "metadata": {},
   "outputs": [],
   "source": [
    "def composed(f, g, x):\n",
    "    # now f and g are just names for whatever functions have been passed in\n",
    "    # so we can compose those functions by computing f(g(x))\n",
    "    return f(g(x))"
   ]
  },
  {
   "cell_type": "code",
   "execution_count": null,
   "id": "a720c225",
   "metadata": {},
   "outputs": [],
   "source": [
    "# this should give 0.5 (since sin(arcsin(x)) = x)\n",
    "composed(np.sin, np.arcsin, 0.5)"
   ]
  },
  {
   "cell_type": "code",
   "execution_count": null,
   "id": "609665d7",
   "metadata": {},
   "outputs": [],
   "source": [
    "# for the second part, we need to define a function which\n",
    "# returns the square of its argument\n",
    "def square(x):\n",
    "    return x ** 2"
   ]
  },
  {
   "cell_type": "code",
   "execution_count": null,
   "id": "93a98324",
   "metadata": {},
   "outputs": [],
   "source": [
    "# This should give 1, since sin(sqrt(pi/2) ** 2) = sin(pi/2) = 1\n",
    "# Notice we don't need square(...), since that would be a number\n",
    "# rather than a function.\n",
    "composed(np.sin, square, np.sqrt(np.pi/2))"
   ]
  }
 ],
 "metadata": {
  "kernelspec": {
   "display_name": "Python 3",
   "language": "python",
   "name": "python3"
  },
  "language_info": {
   "codemirror_mode": {
    "name": "ipython",
    "version": 3
   },
   "file_extension": ".py",
   "mimetype": "text/x-python",
   "name": "python",
   "nbconvert_exporter": "python",
   "pygments_lexer": "ipython3",
   "version": "3.8.10"
  }
 },
 "nbformat": 4,
 "nbformat_minor": 5
}
