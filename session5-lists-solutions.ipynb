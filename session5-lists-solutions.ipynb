{
 "cells": [
  {
   "cell_type": "markdown",
   "id": "7bf40e06",
   "metadata": {},
   "source": [
    "# Mathematical Computing using Python - Session 5\n"
   ]
  },
  {
   "cell_type": "markdown",
   "id": "a9861219",
   "metadata": {},
   "source": [
    "# Lists\n",
    "So far, we have seen very simple \"types\" of data in Python: integers, floating point numbers, and strings. A great deal of programming involves manipulating different combinations of these data types. In order to do so, we often store them in data *structures*. The simplest of these data structures is the `list`. A `list` is precisely what it claims to be: a sequence of objects in some order."
   ]
  },
  {
   "cell_type": "code",
   "execution_count": null,
   "id": "2eb4a1af",
   "metadata": {},
   "outputs": [],
   "source": [
    "my_first_list = [\"apple\", 3, \"banana\", 4.2]"
   ]
  },
  {
   "cell_type": "markdown",
   "id": "7944787d",
   "metadata": {},
   "source": [
    "The variable `my_first_list` now contains 4 objects: 2 strings, an integer, and a float. We can store *any* object in a list, including some things you might not necessarily think of as objects. For example, in Python functions are objects, so we can store functions in lists!"
   ]
  },
  {
   "cell_type": "code",
   "execution_count": null,
   "id": "597f8070",
   "metadata": {},
   "outputs": [],
   "source": [
    "import numpy as np\n",
    "my_function_list = [np.sin, np.cos, np.tan]"
   ]
  },
  {
   "cell_type": "markdown",
   "id": "d116401c",
   "metadata": {},
   "source": [
    "We can add things to the end of a list:"
   ]
  },
  {
   "cell_type": "code",
   "execution_count": null,
   "id": "feec98e8",
   "metadata": {},
   "outputs": [],
   "source": [
    "my_first_list.append(23)\n",
    "my_first_list"
   ]
  },
  {
   "cell_type": "markdown",
   "id": "66b2feb1",
   "metadata": {},
   "source": [
    "And we can remove things from a list:"
   ]
  },
  {
   "cell_type": "code",
   "execution_count": null,
   "id": "9a80e027",
   "metadata": {},
   "outputs": [],
   "source": [
    "my_first_list.remove(4.2)\n",
    "my_first_list"
   ]
  },
  {
   "cell_type": "markdown",
   "id": "d948475c",
   "metadata": {},
   "source": [
    "In order to access the elements of the list, we use square brackets:"
   ]
  },
  {
   "cell_type": "code",
   "execution_count": null,
   "id": "b863134b",
   "metadata": {},
   "outputs": [],
   "source": [
    "my_first_list[0]"
   ]
  },
  {
   "cell_type": "markdown",
   "id": "3c1c0dfd",
   "metadata": {},
   "source": [
    "Notice we start counting at 0!"
   ]
  },
  {
   "cell_type": "code",
   "execution_count": null,
   "id": "a16f9caa",
   "metadata": {},
   "outputs": [],
   "source": [
    "my_first_list[3]"
   ]
  },
  {
   "cell_type": "markdown",
   "id": "f9c709d4",
   "metadata": {},
   "source": [
    "To check whether an element is in a list, you can use `in`:"
   ]
  },
  {
   "cell_type": "code",
   "execution_count": null,
   "id": "d0c8bcc1",
   "metadata": {},
   "outputs": [],
   "source": [
    "\"banana\" in my_first_list"
   ]
  },
  {
   "cell_type": "markdown",
   "id": "6f2f493e",
   "metadata": {},
   "source": [
    "We can also count from the end using negative numbers; this can be very convenient!"
   ]
  },
  {
   "cell_type": "code",
   "execution_count": null,
   "id": "3a2eb0ba",
   "metadata": {},
   "outputs": [],
   "source": [
    "my_first_list[-1]"
   ]
  },
  {
   "cell_type": "markdown",
   "id": "f0d2ba2d",
   "metadata": {},
   "source": [
    "To create an empty list, use `[]`:"
   ]
  },
  {
   "cell_type": "code",
   "execution_count": null,
   "id": "ddbaf324",
   "metadata": {},
   "outputs": [],
   "source": [
    "empty_list = []"
   ]
  },
  {
   "cell_type": "markdown",
   "id": "e2ea134d",
   "metadata": {},
   "source": [
    "You can get the length of a list using `len`:"
   ]
  },
  {
   "cell_type": "code",
   "execution_count": null,
   "id": "6875b0e5",
   "metadata": {},
   "outputs": [],
   "source": [
    "len(my_first_list)"
   ]
  },
  {
   "cell_type": "markdown",
   "id": "bd7f631f",
   "metadata": {},
   "source": [
    "We could use `len` to help us loop through a list:"
   ]
  },
  {
   "cell_type": "code",
   "execution_count": null,
   "id": "0a91c787",
   "metadata": {},
   "outputs": [],
   "source": [
    "for i in range(len(my_first_list)):\n",
    "    print(\"my_first_list element\", i, \":\", my_first_list[i])"
   ]
  },
  {
   "cell_type": "markdown",
   "id": "5632d002",
   "metadata": {},
   "source": [
    "However, Python provides a more elegant way of looping through a list; in general it has the form\n",
    "```\n",
    "for x in some_list:\n",
    "    loop body\n",
    "statements to run after loop\n",
    "```"
   ]
  },
  {
   "cell_type": "code",
   "execution_count": null,
   "id": "67365bb3",
   "metadata": {},
   "outputs": [],
   "source": [
    "L = []\n",
    "for x in my_first_list:\n",
    "    L.append(x * 3)  # this will multiply numbers by 3, and repeat strings 3 times\n",
    "L"
   ]
  },
  {
   "cell_type": "markdown",
   "id": "e2279959",
   "metadata": {},
   "source": [
    "### Exercises"
   ]
  },
  {
   "cell_type": "markdown",
   "id": "b691fad3",
   "metadata": {},
   "source": [
    "#### 5.1\n",
    "Write a function `draw_regular_polygons` which has a parameter `turtle` and a parameter `edge_numbers`, which should be a list of integers. The function should use the provided function `draw_regular_polygon` to draw a regular $n$-agon for every `n` in `edge_numbers`.\n",
    "For example, when you pass `[3, 5, 6]` to `draw_regular_polygons`, you should get something like the image below:\n",
    "\n",
    "<img src=\"img/list-polygons.png\" width=\"175\" alt=\"A triangle, pentagon, and hexagon drawn using a turtle, sharing a common bottom-left corner.\">"
   ]
  },
  {
   "cell_type": "code",
   "execution_count": null,
   "id": "06457c03",
   "metadata": {},
   "outputs": [],
   "source": [
    "from mobilechelonian import Turtle\n",
    "def draw_regular_polygon(turtle, n):\n",
    "    for i in range(n):\n",
    "        turtle.forward(70)\n",
    "        turtle.left(360/n)"
   ]
  },
  {
   "cell_type": "code",
   "execution_count": null,
   "id": "e7bf4bfb",
   "metadata": {},
   "outputs": [],
   "source": [
    "def draw_regular_polygons(turtle, edge_numbers):\n",
    "    # loop over the numbers in edge_numbers\n",
    "    for i in edge_numbers:\n",
    "        # delegate the drawing to the function draw_regular_polygon\n",
    "        draw_regular_polygon(turtle, i)"
   ]
  },
  {
   "cell_type": "code",
   "execution_count": null,
   "id": "be8c0ab2",
   "metadata": {},
   "outputs": [],
   "source": [
    "terry = Turtle()\n",
    "terry.speed(5)\n",
    "draw_regular_polygons(terry, [3, 5, 6])"
   ]
  },
  {
   "cell_type": "markdown",
   "id": "047b2568",
   "metadata": {},
   "source": [
    "#### 5.2\n",
    "Create a list, $L$, with the entries $3.2$, $-100$, $\\sqrt{\\pi}$ and the string `\"St Andrews\"`. Output the element of $L$ containing $\\sqrt{\\pi}$."
   ]
  },
  {
   "cell_type": "code",
   "execution_count": null,
   "id": "e2cd73ca",
   "metadata": {},
   "outputs": [],
   "source": [
    "# import numpy to get pi\n",
    "import numpy as np\n",
    "\n",
    "# create the list\n",
    "L = [3.2, -100, np.sqrt(np.pi), \"St Andrews\"]\n",
    "\n",
    "# output the third element of the list (with index 2)\n",
    "L[2]  "
   ]
  },
  {
   "cell_type": "markdown",
   "id": "9d8e7ef5",
   "metadata": {},
   "source": [
    "#### 5.3\n",
    "Make another list, $M$, containing $-3.2$, $100$, $-\\sqrt{\\pi}$, and `\"St Andrews\"`. \n",
    "Output the element of $M$ containing a string. "
   ]
  },
  {
   "cell_type": "code",
   "execution_count": null,
   "id": "48c52503",
   "metadata": {},
   "outputs": [],
   "source": [
    "# create the list\n",
    "M = [-3.2, 100, -np.sqrt(np.pi), \"St Andrews\"]\n",
    "\n",
    "# output the fourth element of the list (with index 3)\n",
    "M[3]"
   ]
  },
  {
   "cell_type": "markdown",
   "id": "18dda815",
   "metadata": {},
   "source": [
    "#### 5.4\n",
    "Output `L + M`.  What does `+` do to lists?"
   ]
  },
  {
   "cell_type": "code",
   "execution_count": null,
   "id": "d583b6d5",
   "metadata": {},
   "outputs": [],
   "source": [
    "L + M"
   ]
  },
  {
   "cell_type": "markdown",
   "id": "10a9b2c4",
   "metadata": {},
   "source": [
    "The `+` operator *concatenates* lists (i.e. creates a new list containing the elements of the first list followed by the elements of the second list)."
   ]
  },
  {
   "cell_type": "markdown",
   "id": "368f7a8b",
   "metadata": {},
   "source": [
    "#### 5.5\n",
    "Using a `for` loop, create a list `square_numbers` of all the square numbers from $1$ to $20^2 = 400$.\n",
    "\n",
    "*Hint:* start with an empty list, and `append` the squares one-by-one."
   ]
  },
  {
   "cell_type": "code",
   "execution_count": 192,
   "id": "1a97bc37",
   "metadata": {},
   "outputs": [],
   "source": [
    "# make an empty list\n",
    "square_numbers = []\n",
    "\n",
    "# loop from 1 to 20\n",
    "for i in range(1, 21):\n",
    "    # append i squared to the list of square numbers\n",
    "    square_numbers.append(i ** 2)"
   ]
  },
  {
   "cell_type": "code",
   "execution_count": 193,
   "id": "1928615b",
   "metadata": {},
   "outputs": [
    {
     "data": {
      "text/plain": [
       "[1,\n",
       " 4,\n",
       " 9,\n",
       " 16,\n",
       " 25,\n",
       " 36,\n",
       " 49,\n",
       " 64,\n",
       " 81,\n",
       " 100,\n",
       " 121,\n",
       " 144,\n",
       " 169,\n",
       " 196,\n",
       " 225,\n",
       " 256,\n",
       " 289,\n",
       " 324,\n",
       " 361,\n",
       " 400]"
      ]
     },
     "execution_count": 193,
     "metadata": {},
     "output_type": "execute_result"
    }
   ],
   "source": [
    "square_numbers"
   ]
  },
  {
   "cell_type": "markdown",
   "id": "d26b7c46",
   "metadata": {},
   "source": [
    "# Nested Lists\n",
    "One of the most important type of object we can store in a list is other lists.\n",
    "In the following example, we create a list containing 2 lists, each of length 2. We might use this to represent a $2\\times 2$ matrix, where each inner list represents a row."
   ]
  },
  {
   "cell_type": "code",
   "execution_count": null,
   "id": "5e95ef4e",
   "metadata": {},
   "outputs": [],
   "source": [
    "mat = [[1, 0], [-0.3, 4]]"
   ]
  },
  {
   "cell_type": "markdown",
   "id": "746bb2f4",
   "metadata": {},
   "source": [
    "In order to access the elements of the inner lists, simply use two sets of square brackets like so:"
   ]
  },
  {
   "cell_type": "code",
   "execution_count": null,
   "id": "a3902ab1",
   "metadata": {},
   "outputs": [],
   "source": [
    "# first row, second entry\n",
    "mat[0][1]"
   ]
  },
  {
   "cell_type": "markdown",
   "id": "8cd67ebc",
   "metadata": {},
   "source": [
    "We can even put a list inside itself! This is usually a recipe for trouble."
   ]
  },
  {
   "cell_type": "code",
   "execution_count": null,
   "id": "5c1eb218",
   "metadata": {},
   "outputs": [],
   "source": [
    "L = [1, 2, 3]\n",
    "L.append(L)\n",
    "L"
   ]
  },
  {
   "cell_type": "markdown",
   "id": "ac50694a",
   "metadata": {},
   "source": [
    "### Exercise 5.6\n",
    "Using the function `draw_regular_polygon` provided below, write a function `draw_regular_polygons` which takes a parameter `turtle` and a parameter `polygons`, where `polygon` should be a list of lists. Each of the inner lists should look like `[n, size, color]`. Your function should use the provided function to draw coloured polygons of the specified sizes and colours.\n",
    "\n",
    "For example, when you pass the list\n",
    "\n",
    "`[[3, 80, \"Red\"], [4, 100, \"Blue\"], [3, 50, \"DeepPink\"], [6, 80, \"DarkSalmon\"]]`\n",
    "\n",
    "you should obtain something like the following image; test your function using this list.\n",
    "\n",
    "<img src=\"img/list-coloured-polygons.png\" width=\"175\" alt=\"Two triangles, a square, and a hexagon, draw using a turtle, sharing a common bottom-left corner. One triangle is deep pink and one is red. The square is blue, and the hexagon is salmon. The pink triangle is contained in the red triangle, which has the same edge length as the hexagon. The square has the largest edge length.\">\n",
    "\n"
   ]
  },
  {
   "cell_type": "code",
   "execution_count": null,
   "id": "be81f7d3",
   "metadata": {},
   "outputs": [],
   "source": [
    "def draw_regular_polygon(turtle, n, size, color):\n",
    "    # record the old color so we can reset it after drawing\n",
    "    old_color = turtle.color\n",
    "    turtle.pencolor(color)\n",
    "    \n",
    "    # draw the polygon\n",
    "    for i in range(n):\n",
    "        turtle.forward(size)\n",
    "        turtle.left(360/n)\n",
    "    # reset the pen color\n",
    "    turtle.pencolor(old_color)\n",
    "    \n",
    "def draw_regular_polygons(turtle, polygons):\n",
    "    # loop over the inner lists\n",
    "    for polygon in polygons:\n",
    "        # use the draw_regular_polygon function to draw the polygons\n",
    "        draw_regular_polygon(turtle, polygon[0], polygon[1], polygon[2])"
   ]
  },
  {
   "cell_type": "code",
   "execution_count": null,
   "id": "62d68a7d",
   "metadata": {},
   "outputs": [],
   "source": [
    "terry = Turtle()\n",
    "terry.speed(10)\n",
    "\n",
    "# we can split the function call over multiple lines for ease of reading\n",
    "draw_regular_polygons(terry,\n",
    "                      [[3, 80, \"Red\"], [4, 100, \"Blue\"], [3, 50, \"DeepPink\"], [6, 80, \"DarkSalmon\"]])"
   ]
  },
  {
   "cell_type": "markdown",
   "id": "243b0bfa",
   "metadata": {},
   "source": [
    "# Arrays\n",
    "Lists are very \"general\" in the sense that they can contain objects of multiple different types. However, this generality is a trade-off against efficiency. For many applications, we instead use *arrays*. These are a central feature of *numpy*, and can only contain elements all of the same type (usually `int` or `float`). Arrays make operations with large amounts of numeric data very fast and are generally more efficient than lists.\n",
    "\n",
    "A one dimensional numeric array is simply a list of numbers and could be used, for example,\n",
    "to represent a vector. There are several ways to define a one dimensional array. Here are some basic\n",
    "examples:"
   ]
  },
  {
   "cell_type": "code",
   "execution_count": null,
   "id": "6ed8bceb",
   "metadata": {},
   "outputs": [],
   "source": [
    "import numpy as np\n",
    "my_array = np.array([1, 3, 2, 5, 10])   # make an array from a list\n",
    "my_array"
   ]
  },
  {
   "cell_type": "markdown",
   "id": "2cdedef8",
   "metadata": {},
   "source": [
    "If you try and convert a list of mixed types then *numpy* does its best to convert it to a sensible array - but you may not get what you expect!"
   ]
  },
  {
   "cell_type": "code",
   "execution_count": null,
   "id": "76f4304f",
   "metadata": {},
   "outputs": [],
   "source": [
    "my_list = [1, 2, 45.3, \"hello\"]\n",
    "my_array2 = np.array(my_list)\n",
    "my_array2"
   ]
  },
  {
   "cell_type": "markdown",
   "id": "59949251",
   "metadata": {},
   "source": [
    "You can also create higher-dimensional arrays by converting lists of lists:"
   ]
  },
  {
   "cell_type": "code",
   "execution_count": null,
   "id": "24655363",
   "metadata": {},
   "outputs": [],
   "source": [
    "np.array([[1, 2], [3, 4]])"
   ]
  },
  {
   "cell_type": "markdown",
   "id": "12f0a980",
   "metadata": {},
   "source": [
    "When we are dealing with large arrays, it is impractical to type in each entry by hand. There are a number of helpful functions provided by *numpy* to create arrays with certain properties. To create an array of evenly-spaced values between a `start` and `stop` value, we can use the `arange` or `linspace` functions from *numpy*. \n",
    "\n",
    "With both functions we specify the start and stop values (like with `range`), but with `arange` we specify the spacing between the values, and with `linspace` we specify the number of points to evenly space between the endpoints."
   ]
  },
  {
   "cell_type": "code",
   "execution_count": null,
   "id": "e81c37c8",
   "metadata": {},
   "outputs": [],
   "source": [
    "np.arange(0.0, 4.2, 0.2)"
   ]
  },
  {
   "cell_type": "code",
   "execution_count": null,
   "id": "8547baa5",
   "metadata": {},
   "outputs": [],
   "source": [
    "np.linspace(0.0, 4.2, num = 10)"
   ]
  },
  {
   "cell_type": "markdown",
   "id": "9d75a8f6",
   "metadata": {},
   "source": [
    "Another common way to create arrays is by creating an array with all entries 0, then setting the entries to be the correct value. In the following example, we create a $3 \\times 4$ matrix $A$ with entries \n",
    "$$a_{i,j} = \\begin{cases}2i + j & i, j > 1 \\\\ 0 &\\text{otherwise.} \\end{cases}$$\n",
    "for $1 \\leq i \\leq 3$ and $1 \\leq j \\leq 4$.\n",
    "\n",
    "Notice that we index matrices from 1 in mathematics, but from 0 in programming - you have to be very careful with this, and it's best to clarify which you mean."
   ]
  },
  {
   "cell_type": "code",
   "execution_count": null,
   "id": "dbf98d39",
   "metadata": {},
   "outputs": [],
   "source": [
    "dim1 = 3\n",
    "dim2 = 4\n",
    "# Create a 3x4 matrix of zeros; notice the argument is a pair (dim1, dim2)\n",
    "# which defines the \"shape\" of the array, which is why there is an extra pair of brackets.\n",
    "# These extra brackets are necessary!\n",
    "mat = np.zeros((dim1, dim2))\n",
    "\n",
    "# now set the entries\n",
    "for i in range(1, dim1):\n",
    "    for j in range(1, dim2):\n",
    "        # We use (i + 1) and (j + 1) to agree with the mathematical definition.\n",
    "        mat[i, j] = 2 * (i + 1) + (j + 1)\n",
    "        # Note we don't need multiple square brackets with numpy arrays.\n",
    "        # You could use mat[i][j] instead, but mat[i,j] is more efficient.\n",
    "\n",
    "# view mat\n",
    "mat"
   ]
  },
  {
   "cell_type": "markdown",
   "id": "f5d211ca",
   "metadata": {},
   "source": [
    "*Numpy* arrays are extremely powerful and we do not have time to discuss all (or even a small portion) of their features in this workshop. One of the most useful features is that many *numpy* functions can be applied to all elements of an array at once:"
   ]
  },
  {
   "cell_type": "code",
   "execution_count": null,
   "id": "85cafe44",
   "metadata": {},
   "outputs": [],
   "source": [
    "np.sin(mat)"
   ]
  },
  {
   "cell_type": "markdown",
   "id": "de76c2d7",
   "metadata": {},
   "source": [
    "Unlike `lists`, we can also do arithmetic with arrays:"
   ]
  },
  {
   "cell_type": "code",
   "execution_count": null,
   "id": "00fd5dea",
   "metadata": {},
   "outputs": [],
   "source": [
    "2 * mat + np.sin(mat)"
   ]
  },
  {
   "cell_type": "markdown",
   "id": "f0d6becf",
   "metadata": {},
   "source": [
    "### Exercises\n",
    "#### 5.6\n",
    "Create a *numpy* array representing the matrix $A = [a_{i,j}]$, where $a_{i,j} = i + j$, $1 \\leq i. j \\leq 3$. Note that the top-left entry should be 2; check that it is!"
   ]
  },
  {
   "cell_type": "code",
   "execution_count": null,
   "id": "43218603",
   "metadata": {},
   "outputs": [],
   "source": [
    "# create a 3x3 array of zeros\n",
    "A = np.zeros((3, 3))    # the shape of the array needs an extra pair of brackets ()\n",
    "\n",
    "# set the entries\n",
    "for i in range(3):\n",
    "    for j in range(3):\n",
    "        # use (i + 1) and (j + 1) to agree with the mathematical definition\n",
    "        A[i,j] = (i + 1) + (j + 1)\n",
    "        \n",
    "# view the top-left entry\n",
    "A[0,0]"
   ]
  },
  {
   "cell_type": "markdown",
   "id": "a71ee1ab",
   "metadata": {},
   "source": [
    "#### 5.7\n",
    "Given the matrix $B$ as defined below, compute $A + B$, $A - B$, and the matrix $[\\cos(a_{i,j})]$."
   ]
  },
  {
   "cell_type": "code",
   "execution_count": null,
   "id": "c2237e35",
   "metadata": {},
   "outputs": [],
   "source": [
    "B = np.array([[1, 3.2, 3], [0, 1.2, 0], [8, 1, 2.1]])"
   ]
  },
  {
   "cell_type": "code",
   "execution_count": null,
   "id": "a12b0ac3",
   "metadata": {},
   "outputs": [],
   "source": [
    "A + B"
   ]
  },
  {
   "cell_type": "code",
   "execution_count": null,
   "id": "10d11d64",
   "metadata": {},
   "outputs": [],
   "source": [
    "A - B"
   ]
  },
  {
   "cell_type": "code",
   "execution_count": null,
   "id": "2316f380",
   "metadata": {},
   "outputs": [],
   "source": [
    "np.cos(A)"
   ]
  },
  {
   "cell_type": "markdown",
   "id": "c81da7fd",
   "metadata": {},
   "source": [
    "#### 5.8\n",
    "Use the `matmul` and `transpose` functions from *numpy* to verify that $(AB)^T = B^TA^T$.\n",
    "You can find examples of their usage by searching the internet for \"numpy matmul/transpose documentation\"."
   ]
  },
  {
   "cell_type": "code",
   "execution_count": null,
   "id": "c714b9a8",
   "metadata": {},
   "outputs": [],
   "source": [
    "np.transpose(np.matmul(A, B)) == np.matmul(np.transpose(B), np.transpose(A))"
   ]
  },
  {
   "cell_type": "markdown",
   "id": "091c8178",
   "metadata": {},
   "source": [
    "Notice that `==` is computed element-wise for arrays. You could check that every entry is equal by using the `np.all` function."
   ]
  },
  {
   "cell_type": "code",
   "execution_count": null,
   "id": "5501a539",
   "metadata": {},
   "outputs": [],
   "source": [
    "np.all(np.transpose(np.matmul(A, B)) == np.matmul(np.transpose(B), np.transpose(A)))"
   ]
  },
  {
   "cell_type": "markdown",
   "id": "94ad5274",
   "metadata": {},
   "source": [
    "#### 5.9\n",
    "Create a numpy array `X` containing 100 evenly-spaced points between -4 and 4. Set `Y = np.cos(X)`."
   ]
  },
  {
   "cell_type": "code",
   "execution_count": null,
   "id": "45788707",
   "metadata": {},
   "outputs": [],
   "source": [
    "# to create a specified number of evenly-spaced points between two endpoints,\n",
    "# use linspace from numpy\n",
    "X = np.linspace(-4, 4, num = 100)\n",
    "Y = np.cos(X)"
   ]
  },
  {
   "cell_type": "markdown",
   "id": "c909c7f4",
   "metadata": {},
   "source": [
    "Now run the following cell to plot your first graph in Python."
   ]
  },
  {
   "cell_type": "code",
   "execution_count": null,
   "id": "a878c13a",
   "metadata": {},
   "outputs": [],
   "source": [
    "# plotting is often done through the matplotlib library\n",
    "import matplotlib.pyplot as plt\n",
    "# use X as the x-coordinates and Y as the corresponding y-coordinates\n",
    "plt.plot(X, Y)"
   ]
  },
  {
   "cell_type": "markdown",
   "id": "5a7542d5",
   "metadata": {},
   "source": [
    "# List slicing\n",
    "Given a list, it is often useful to be able to extract a sublist from it. One way of achieving this in Python is using *list slicing*. This \"cuts out\" a sublist of a given list. The notation for it is `list_to_slice[start:stop:step]`. We often leave out `step`, in which case consecutive elements will be selected.\n",
    "We can also leave out `start` or `stop` to mean \"start of the list\" or \"end of the list\", and we can index from the end using negative numbers. Don't be too concerned with remembering the details - just remember it's possible, then you can look up the details!"
   ]
  },
  {
   "cell_type": "code",
   "execution_count": null,
   "id": "a176b699",
   "metadata": {},
   "outputs": [],
   "source": [
    "my_list = [0, 1, 2, 3, 4, 5]\n",
    "my_list[0:2]"
   ]
  },
  {
   "cell_type": "code",
   "execution_count": null,
   "id": "b43d6976",
   "metadata": {},
   "outputs": [],
   "source": [
    "my_list[1:4]"
   ]
  },
  {
   "cell_type": "code",
   "execution_count": null,
   "id": "0db54fc0",
   "metadata": {},
   "outputs": [],
   "source": [
    "my_list[1:]"
   ]
  },
  {
   "cell_type": "code",
   "execution_count": null,
   "id": "451fc5f3",
   "metadata": {},
   "outputs": [],
   "source": [
    "my_list[:-2]"
   ]
  },
  {
   "cell_type": "code",
   "execution_count": null,
   "id": "78e02608",
   "metadata": {},
   "outputs": [],
   "source": [
    "my_list[0:3:2]"
   ]
  },
  {
   "cell_type": "markdown",
   "id": "830ba536",
   "metadata": {},
   "source": [
    "# Strings\n",
    "Strings behave much like lists of characters. You can slice strings and loop through the characters in them:"
   ]
  },
  {
   "cell_type": "code",
   "execution_count": null,
   "id": "07ae165a",
   "metadata": {},
   "outputs": [],
   "source": [
    "my_string = \"Hello World\"\n",
    "for character in my_string[6:]:\n",
    "    print(character)"
   ]
  },
  {
   "cell_type": "markdown",
   "id": "66d46c40",
   "metadata": {},
   "source": [
    "You can also access the characters using square brackets:"
   ]
  },
  {
   "cell_type": "code",
   "execution_count": null,
   "id": "09209d60",
   "metadata": {},
   "outputs": [],
   "source": [
    "\"Hello World\"[4]"
   ]
  },
  {
   "cell_type": "code",
   "execution_count": null,
   "id": "e4a55b40",
   "metadata": {},
   "outputs": [],
   "source": [
    "\"Hello World\"[-3]"
   ]
  },
  {
   "cell_type": "markdown",
   "id": "dc14609a",
   "metadata": {},
   "source": [
    "### Exercise 5.10\n",
    "\n",
    "Write a function `is_palindrome` which tests if a string `s` is a palindrome. Test your function on the strings:\n",
    "- \"aaa\"\n",
    "- \"kayak\"\n",
    "- \"hello\"\n",
    "- \"123 321\"\n",
    "- \"123123\"\n",
    "\n",
    "*Hint:* test if the first character is equal to the final character, second character is equal to the penultimate character, and so on."
   ]
  },
  {
   "cell_type": "code",
   "execution_count": null,
   "id": "64b2bc5f",
   "metadata": {},
   "outputs": [],
   "source": [
    "def is_palindrome(s):\n",
    "    # Test if the i-th character from the start is equal to the i-th character\n",
    "    # from the end, for each i.\n",
    "    for i in range(len(s)):\n",
    "        # the i-th character from the start is s[i]\n",
    "        # the i-th character from the end is s[len(s) - (i + 1)] (see below),\n",
    "        # which we can alternatively write as s[-(i + 1)]\n",
    "        if s[i] != s[-(i + 1)]:\n",
    "            return False\n",
    "    \n",
    "    # If we reach this point, we haven't returned yet\n",
    "    # so there was no i such that the i-th character from the start\n",
    "    # was different to the i-th character from the end.\n",
    "    # That means that s is a palindrome, so return True\n",
    "    return True"
   ]
  },
  {
   "cell_type": "markdown",
   "id": "55b71ca0",
   "metadata": {},
   "source": [
    "How do we know that the $i$th character from the end is `s[len(s) - (i + 1)]`? The easiest way is to consider some examples.\n",
    "\n",
    "If `i` is `0`, then we need to get the last character of the string. Since we start counting at 0, then last character is `s[len(s) - 1]`. When `i` is `1`, we must then need the character before that, so `s[len(s) - 2]`. Since this index must decrease by 1 when `i` increases by 1, this pattern will continue to hold and we can conclude that the `i`th from last character has index `len(s) - (i + 1)`."
   ]
  },
  {
   "cell_type": "code",
   "execution_count": null,
   "id": "69384c5a",
   "metadata": {},
   "outputs": [],
   "source": [
    "is_palindrome(\"aaa\")"
   ]
  },
  {
   "cell_type": "code",
   "execution_count": null,
   "id": "7bba324d",
   "metadata": {},
   "outputs": [],
   "source": [
    "is_palindrome(\"kayak\")"
   ]
  },
  {
   "cell_type": "code",
   "execution_count": null,
   "id": "6347c18c",
   "metadata": {},
   "outputs": [],
   "source": [
    "is_palindrome(\"hello\")"
   ]
  },
  {
   "cell_type": "code",
   "execution_count": null,
   "id": "34c454f1",
   "metadata": {},
   "outputs": [],
   "source": [
    "is_palindrome(\"123 321\")"
   ]
  },
  {
   "cell_type": "code",
   "execution_count": null,
   "id": "e95afe4f",
   "metadata": {},
   "outputs": [],
   "source": [
    "is_palindrome(\"123123\")"
   ]
  },
  {
   "cell_type": "markdown",
   "id": "b9fb0285",
   "metadata": {},
   "source": [
    "# Additional Exercises"
   ]
  },
  {
   "cell_type": "markdown",
   "id": "518082b3",
   "metadata": {},
   "source": [
    "#### 5.11\n",
    "Make an array `L` of numbers that starts at $-10.0$, ends at $10.0$ (inclusive), and where each entry\n",
    "is $0.5$ apart.\n",
    "\n",
    "What does `np.size(L)` give?  What is `L[20]`?  What is `L[40]`?"
   ]
  },
  {
   "cell_type": "code",
   "execution_count": null,
   "id": "01bc7647",
   "metadata": {},
   "outputs": [],
   "source": [
    "# use arange to get values with specified spacing\n",
    "# stop at 10.1 so that \n",
    "L = np.arange(-10.0, 10.1, 0.5)"
   ]
  },
  {
   "cell_type": "code",
   "execution_count": null,
   "id": "cca2d8a2",
   "metadata": {},
   "outputs": [],
   "source": [
    "np.size(L)"
   ]
  },
  {
   "cell_type": "code",
   "execution_count": null,
   "id": "d22e590a",
   "metadata": {},
   "outputs": [],
   "source": [
    "L[20]"
   ]
  },
  {
   "cell_type": "code",
   "execution_count": null,
   "id": "02949660",
   "metadata": {},
   "outputs": [],
   "source": [
    "L[40]"
   ]
  },
  {
   "cell_type": "markdown",
   "id": "30f81d3a",
   "metadata": {},
   "source": [
    "#### 5.12\n",
    "Make an array `L` with entries $n/(n+1)$ for $n=0,\\ldots,19$.\n",
    "Output `L`, `L/2`, `5*L` and `L-1`."
   ]
  },
  {
   "cell_type": "code",
   "execution_count": null,
   "id": "1a9e2db7",
   "metadata": {},
   "outputs": [],
   "source": [
    "# Create an array of 20 zeros.\n",
    "# We don't need extra brackets for a single dimension.\n",
    "L = np.zeros(20)\n",
    "\n",
    "# Loop through the array, setting the entries to the correct value.\n",
    "for n in range(20):\n",
    "    L[n] = n / (n + 1)"
   ]
  },
  {
   "cell_type": "code",
   "execution_count": null,
   "id": "709a3569",
   "metadata": {},
   "outputs": [],
   "source": [
    "L"
   ]
  },
  {
   "cell_type": "code",
   "execution_count": null,
   "id": "816168aa",
   "metadata": {},
   "outputs": [],
   "source": [
    "L / 2"
   ]
  },
  {
   "cell_type": "code",
   "execution_count": null,
   "id": "c127a1ee",
   "metadata": {},
   "outputs": [],
   "source": [
    "5 * L"
   ]
  },
  {
   "cell_type": "code",
   "execution_count": null,
   "id": "b9b7b82f",
   "metadata": {},
   "outputs": [],
   "source": [
    "L - 1"
   ]
  },
  {
   "cell_type": "markdown",
   "id": "07016fc5",
   "metadata": {},
   "source": [
    "#### 5.13\n",
    "Slice the array `L` to obtain the first ten entries."
   ]
  },
  {
   "cell_type": "code",
   "execution_count": null,
   "id": "c318acaf",
   "metadata": {},
   "outputs": [],
   "source": [
    "# The first ten entries have indices 0 .. 9.\n",
    "# When slicing, the \"stop\" value isn't included.\n",
    "L[0:10]"
   ]
  },
  {
   "cell_type": "code",
   "execution_count": null,
   "id": "ddb2e3fb",
   "metadata": {},
   "outputs": [],
   "source": [
    "# We could also omit the 0\n",
    "L[:10]"
   ]
  },
  {
   "cell_type": "markdown",
   "id": "55ba8763",
   "metadata": {},
   "source": [
    "#### 5.14\n",
    "Consider the following vectors, ${\\bf{r_1}} = (1,3,8)$ and ${\\bf{r_2}} = (2,6,8)$. \n",
    "Form two arrays in python to store ${\\bf{r_1}}$ and ${\\bf{r_2}}$.  Make sure the entries are floats (not integers).\n",
    "\n",
    "Use Python to:\n",
    "- Compute  ${\\bf{r_1}}\\cdot{\\bf{r_2}} $.\n",
    "- Determine $\\theta$ where $\\cos (\\theta) = ({\\bf{r_1}}\\cdot{\\bf{r_2}})/(\\mid{\\bf{r_1}}\\mid  \\mid{\\bf{r_2}}\\mid)$"
   ]
  },
  {
   "cell_type": "markdown",
   "id": "ee48dbd4",
   "metadata": {},
   "source": [
    "While this question doesn't ask us to write any functions, it's usually a good idea to! Writing functions will help us to split up the problem into smaller parts. We'll start by writing a function to compute the dot product of two vectors (although we could also just use `np.dot`!)"
   ]
  },
  {
   "cell_type": "code",
   "execution_count": null,
   "id": "e88b6c3e",
   "metadata": {},
   "outputs": [],
   "source": [
    "def dot_product(v, w):\n",
    "    # the dot product is the sum of the componentwise products\n",
    "    res = 0\n",
    "    for i in range(len(v)):\n",
    "        res = res + v[i] * w[i]\n",
    "    return res"
   ]
  },
  {
   "cell_type": "code",
   "execution_count": null,
   "id": "0470fedd",
   "metadata": {},
   "outputs": [],
   "source": [
    "# create two arrays representing the vectors r1 and r2\n",
    "r1 = np.array([1.0, 3.0, 8.0])\n",
    "r2 = np.array([2.0, 6.0, 8.0])\n",
    "\n",
    "# compute the dot product\n",
    "dot_product(r1, r2)"
   ]
  },
  {
   "cell_type": "markdown",
   "id": "59a13d0e",
   "metadata": {},
   "source": [
    "Now we need a function to compute the length/magnitude of a vector. We could also use `np.linalg.norm`."
   ]
  },
  {
   "cell_type": "code",
   "execution_count": null,
   "id": "777ad4f2",
   "metadata": {},
   "outputs": [],
   "source": [
    "# |v| is the square root of v dot v\n",
    "def magnitude(v):\n",
    "    return dot_product(v, v) ** 0.5"
   ]
  },
  {
   "cell_type": "code",
   "execution_count": null,
   "id": "07684f06",
   "metadata": {},
   "outputs": [],
   "source": [
    "cos_theta = dot_product(r1, r2) / (magnitude(r1) * magnitude(r2))\n",
    "cos_theta"
   ]
  },
  {
   "cell_type": "code",
   "execution_count": null,
   "id": "9847ce91",
   "metadata": {},
   "outputs": [],
   "source": [
    "theta = np.arccos(cos_theta)\n",
    "theta"
   ]
  },
  {
   "cell_type": "markdown",
   "id": "d42498ac",
   "metadata": {},
   "source": [
    "So the angle between ${\\bf{r_1}} = (1,3,8)$ and ${\\bf{r_2}} = (2,6,8)$ is approximately $0.29$ radians.\n",
    "\n",
    "We could also compute `cos_theta` using functions from `numpy` like so:"
   ]
  },
  {
   "cell_type": "code",
   "execution_count": null,
   "id": "2d088181",
   "metadata": {},
   "outputs": [],
   "source": [
    "cos_theta = np.dot(r1, r2) / (np.linalg.norm(r1) * np.linalg.norm(r2))"
   ]
  },
  {
   "cell_type": "markdown",
   "id": "fbce9bf5",
   "metadata": {},
   "source": [
    "#### 5.15\n",
    "\n",
    "To multiply an $m\\times n$ $A$ and $n \\times p$ matrix $B$, we use the formula\n",
    "\n",
    "$$(AB)_{i,j} = \\sum_{k = 1}^n A_{i,k} B_{k,j}$$\n",
    "\n",
    "where $1 \\leq i \\leq m$ and $1 \\leq j \\leq p$.\n",
    "\n",
    "Write a function `matrix_product` which takes two matrices `A` and `B`, represented as *numpy* arrays, and returns the product $AB$. You can assume that `A` and `B` can be multiplied (i.e. the number of columns of `A` is equal to the number of rows of `B`).\n",
    "\n",
    "Test your function on some small matrices; you can get the correct answers from the *numpy* function `matmul`."
   ]
  },
  {
   "cell_type": "code",
   "execution_count": null,
   "id": "8733bbf8",
   "metadata": {},
   "outputs": [],
   "source": [
    "def matrix_product(A, B):\n",
    "    # define m, n, and p\n",
    "    m = len(A)           # number of rows of A\n",
    "    n = len(A[0])        # number of columns of A\n",
    "    p = len(B[0])        # number of columns of B\n",
    "    \n",
    "    # Create an array of zeros to hold the result.\n",
    "    # \n",
    "    product = np.zeros((len(A), len(B[1])))\n",
    "\n",
    "    # We need to loop over all of the entries of the product, using nested for loops.\n",
    "    # We will loop over i from 0 to m - 1 and j from 0 to p - 1.\n",
    "    # Note the change of indices from the mathematics to the code!\n",
    "    for i in range(m):\n",
    "        for j in range(p):\n",
    "            # entry (i, j) of the product is formed from the sum above\n",
    "            # with k from 0 to n - 1\n",
    "            total = 0\n",
    "            for k in range(n):\n",
    "                total = total + A[i, k] * B[k, j]\n",
    "            product[i, j] = total\n",
    "    \n",
    "    # having looped over all of the entries, return the result\n",
    "    return product"
   ]
  },
  {
   "cell_type": "code",
   "execution_count": null,
   "id": "0579441c",
   "metadata": {},
   "outputs": [],
   "source": [
    "A = np.array([[1, 2.3, 1],\n",
    "              [0, 1.5, 2.3]])\n",
    "\n",
    "B = np.array([[1, 3.2, 3, 2],\n",
    "              [0, 1.2, 0, 0],\n",
    "              [8, 1, 2.1, 1.1]])"
   ]
  },
  {
   "cell_type": "code",
   "execution_count": null,
   "id": "f93d976c",
   "metadata": {},
   "outputs": [],
   "source": [
    "# == is performed entrywise for arrays, so we will get an array filled with True\n",
    "# if our function agrees with the numpy matrix multiplication\n",
    "matrix_product(A, B) == np.matmul(A, B)"
   ]
  },
  {
   "cell_type": "markdown",
   "id": "8cc229b2",
   "metadata": {},
   "source": [
    "The easiest way of turning this array into a single boolean value is to use the [`np.all` function](https://numpy.org/doc/stable/reference/generated/numpy.all.html)."
   ]
  },
  {
   "cell_type": "code",
   "execution_count": null,
   "id": "5efb8723",
   "metadata": {},
   "outputs": [],
   "source": [
    "np.all(matrix_product(A, B) == np.matmul(A, B))"
   ]
  },
  {
   "cell_type": "markdown",
   "id": "8880a2a4",
   "metadata": {},
   "source": [
    "But better is to just use the [`np.array_equal` function](https://numpy.org/doc/stable/reference/generated/numpy.array_equal.html):"
   ]
  },
  {
   "cell_type": "code",
   "execution_count": null,
   "id": "420e5a79",
   "metadata": {},
   "outputs": [],
   "source": [
    "np.array_equal(matrix_product(A, B), np.matmul(A, B))"
   ]
  },
  {
   "cell_type": "markdown",
   "id": "7abcde7c",
   "metadata": {},
   "source": [
    "#### 5.16\n",
    "\n",
    "Hofstader's $Q$-sequence is defined by the  recurrence relation\n",
    "\n",
    "$$\n",
    "Q(n)= Q(n-Q(n-1)) + Q(n-Q(n-2)),\n",
    "$$\n",
    "\n",
    "where $Q(0)=Q(1)=1$. Starting with the list `[1, 1]` and using a suitable `for` loop, fill the list with rest of the first 300 values of the sequence. The first few values of $Q(n)$ are $1, 1, 2, 3, 3, 4, 5, 5, 6, 6, 6, 8, 8, 8, 10, 9, 10,\\dots$."
   ]
  },
  {
   "cell_type": "code",
   "execution_count": null,
   "id": "bfbef8c7",
   "metadata": {},
   "outputs": [],
   "source": [
    "# We will represent Q(i) = x by storing a list Q with Q[i] = x\n",
    "\n",
    "# initialise the list\n",
    "Q = [1, 1]\n",
    "\n",
    "# we want the first 300 values, but we already have two\n",
    "for n in range(2, 300):\n",
    "    # translate the definition above directly into code\n",
    "    x = Q[n - Q[n - 1]] + Q[n - Q[n - 2]]\n",
    "    # now we append x to Q -- Q[n] will then contain x\n",
    "    Q.append(x)"
   ]
  },
  {
   "cell_type": "code",
   "execution_count": null,
   "id": "e1697818",
   "metadata": {},
   "outputs": [],
   "source": [
    "# check we have the right number of values\n",
    "len(Q)"
   ]
  },
  {
   "cell_type": "code",
   "execution_count": null,
   "id": "1d321cb7",
   "metadata": {},
   "outputs": [],
   "source": [
    "# check the values against the values provided\n",
    "Q[:17]"
   ]
  }
 ],
 "metadata": {
  "kernelspec": {
   "display_name": "Python 3",
   "language": "python",
   "name": "python3"
  },
  "language_info": {
   "codemirror_mode": {
    "name": "ipython",
    "version": 3
   },
   "file_extension": ".py",
   "mimetype": "text/x-python",
   "name": "python",
   "nbconvert_exporter": "python",
   "pygments_lexer": "ipython3",
   "version": "3.8.10"
  }
 },
 "nbformat": 4,
 "nbformat_minor": 5
}
