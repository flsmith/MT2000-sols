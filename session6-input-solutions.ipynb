{
 "cells": [
  {
   "cell_type": "markdown",
   "id": "7bf40e06",
   "metadata": {},
   "source": [
    "# Mathematical Computing using Python - Session 6\n"
   ]
  },
  {
   "cell_type": "markdown",
   "id": "3b0675dc",
   "metadata": {},
   "source": [
    "# Input and Types\n",
    "Up until this point, our programs have not relied on any input from outside sources. The most obvious outside source to get input from is a user of the program. The easiest way of doing this is using the `input` command. This takes a string `prompt` as an argument, displays the prompt, and halts execution of the program until the user enters input and hits return. As a simple example, here's a program that asks for a number from the user, and prints whether it is negative, zero, or positive.\n",
    "\n",
    "**Warning** if you run the following code cell, you won't be able to run any other cells until you enter some input and hit return at the prompt."
   ]
  },
  {
   "cell_type": "code",
   "execution_count": null,
   "id": "6f8015b2",
   "metadata": {},
   "outputs": [],
   "source": [
    "# Display a message explaining to the user what to do\n",
    "print(\"Please enter a number.\")\n",
    "# Get the input from the user - use int to turn it into a number\n",
    "x = int(input(\">\"))\n",
    "\n",
    "# Test the number's sign\n",
    "if x < 0:\n",
    "    print(\"Your number was negative.\")\n",
    "elif x == 0:\n",
    "    print(\"Your number was zero.\")\n",
    "else:\n",
    "    print(\"Your number was positive.\")"
   ]
  },
  {
   "cell_type": "markdown",
   "id": "d781f0c7",
   "metadata": {},
   "source": [
    "There are a few things to discuss in this example. Firstly, you can choose whatever string you want to display as a prompt, but the use of `>` is fairly standard and clear to the user. Secondly, we use `int(input(\">\"))` to obtain a number from the user. To explain why we do this, we need to take a brief diversion into *types*.\n",
    "\n",
    "## Types\n",
    "In Python, everything has a *type*. These types are used to determine what sort of behaviour objects have. For example, real numbers have type `int` or `float`:"
   ]
  },
  {
   "cell_type": "code",
   "execution_count": null,
   "id": "0ba61462",
   "metadata": {},
   "outputs": [],
   "source": [
    "type(-33)"
   ]
  },
  {
   "cell_type": "code",
   "execution_count": null,
   "id": "a1909c4f",
   "metadata": {},
   "outputs": [],
   "source": [
    "type(1.32)"
   ]
  },
  {
   "cell_type": "markdown",
   "id": "18d26fa7",
   "metadata": {},
   "source": [
    "Similarly, strings have type `str`."
   ]
  },
  {
   "cell_type": "code",
   "execution_count": null,
   "id": "9d8a49ee",
   "metadata": {},
   "outputs": [],
   "source": [
    "type(\"Hello\")"
   ]
  },
  {
   "cell_type": "markdown",
   "id": "3ce7ae08",
   "metadata": {},
   "source": [
    "Booleans (`True` and `False`) have type `bool`."
   ]
  },
  {
   "cell_type": "code",
   "execution_count": null,
   "id": "9d9aaa0b",
   "metadata": {},
   "outputs": [],
   "source": [
    "type(True)"
   ]
  },
  {
   "cell_type": "markdown",
   "id": "b8e79e61",
   "metadata": {},
   "source": [
    "And turtles have type `mobilechelonian.Turtle`."
   ]
  },
  {
   "cell_type": "code",
   "execution_count": null,
   "id": "729587af",
   "metadata": {},
   "outputs": [],
   "source": [
    "from mobilechelonian import Turtle\n",
    "terry = Turtle()\n",
    "type(terry)"
   ]
  },
  {
   "cell_type": "markdown",
   "id": "03a01750",
   "metadata": {},
   "source": [
    "Because it doesn't make sense to add turtles together, there is no `+` operation for things of type `mobilechelonian.Turtle`. Similarly, there is no `forward` method for `int`. This is what we mean when we say that the type of an object determines what sort of behaviour it has."
   ]
  },
  {
   "cell_type": "code",
   "execution_count": null,
   "id": "e80b20dd",
   "metadata": {},
   "outputs": [],
   "source": [
    "a = 12\n",
    "a.forward(10)"
   ]
  },
  {
   "cell_type": "markdown",
   "id": "ca55996a",
   "metadata": {},
   "source": [
    "There are many more types in Python, both built-in and in modules like *numpy*. But what do these types have to do with the line `int(input(\">\"))`?\n",
    "\n",
    "It turns out that the function `input` always returns a string. Try running the following cell and inputting a number:"
   ]
  },
  {
   "cell_type": "code",
   "execution_count": 2,
   "id": "1e790727",
   "metadata": {},
   "outputs": [
    {
     "name": "stdout",
     "output_type": "stream",
     "text": [
      "Please input a number.\n",
      ">12\n"
     ]
    },
    {
     "data": {
      "text/plain": [
       "'12'"
      ]
     },
     "execution_count": 2,
     "metadata": {},
     "output_type": "execute_result"
    }
   ],
   "source": [
    "print(\"Please input a number.\")\n",
    "x = input(\">\")\n",
    "x"
   ]
  },
  {
   "cell_type": "markdown",
   "id": "14de26ce",
   "metadata": {},
   "source": [
    "Notice that `x` contains the string representing your number, rather than the number itself."
   ]
  },
  {
   "cell_type": "code",
   "execution_count": 3,
   "id": "e1b557b8",
   "metadata": {},
   "outputs": [
    {
     "data": {
      "text/plain": [
       "str"
      ]
     },
     "execution_count": 3,
     "metadata": {},
     "output_type": "execute_result"
    }
   ],
   "source": [
    "type(x)"
   ]
  },
  {
   "cell_type": "markdown",
   "id": "7e31938a",
   "metadata": {},
   "source": [
    "However, Python provides ways of converting between many different types. By writing `int(x)` we ask Python to try to convert whatever is in `x` (currently a string) into a number."
   ]
  },
  {
   "cell_type": "code",
   "execution_count": null,
   "id": "bd3d483c",
   "metadata": {},
   "outputs": [],
   "source": [
    "int(x)"
   ]
  },
  {
   "cell_type": "markdown",
   "id": "4be14da3",
   "metadata": {},
   "source": [
    "### Exercises"
   ]
  },
  {
   "cell_type": "markdown",
   "id": "0c753204",
   "metadata": {},
   "source": [
    "#### 6.1\n",
    "What happens if you try to convert a string which doesn't represent a number (like `\"apple\"`) to an integer?"
   ]
  },
  {
   "cell_type": "code",
   "execution_count": 1,
   "id": "23b717f0",
   "metadata": {},
   "outputs": [
    {
     "ename": "ValueError",
     "evalue": "invalid literal for int() with base 10: 'apple'",
     "output_type": "error",
     "traceback": [
      "\u001b[0;31m---------------------------------------------------------------------------\u001b[0m",
      "\u001b[0;31mValueError\u001b[0m                                Traceback (most recent call last)",
      "\u001b[0;32m<ipython-input-1-0a40a092070d>\u001b[0m in \u001b[0;36m<module>\u001b[0;34m\u001b[0m\n\u001b[0;32m----> 1\u001b[0;31m \u001b[0mint\u001b[0m\u001b[0;34m(\u001b[0m\u001b[0;34m\"apple\"\u001b[0m\u001b[0;34m)\u001b[0m\u001b[0;34m\u001b[0m\u001b[0;34m\u001b[0m\u001b[0m\n\u001b[0m",
      "\u001b[0;31mValueError\u001b[0m: invalid literal for int() with base 10: 'apple'"
     ]
    }
   ],
   "source": [
    "int(\"apple\")"
   ]
  },
  {
   "cell_type": "markdown",
   "id": "b9103b1a",
   "metadata": {},
   "source": [
    "We get an error; Python doesn't have any method of turning `\"apple\"` into an integer."
   ]
  },
  {
   "cell_type": "markdown",
   "id": "6c8608ed",
   "metadata": {},
   "source": [
    "#### 6.2\n",
    "Try doing the same thing in reverse: create a variable containing a number, and convert it to a string.\n",
    "\n",
    "*Hint:* in general, you convert to a type called `type_name` by writing `type_name(thing_to_convert)`. You can test what the name of a type is in Python using the `type` function on an example of that type of object."
   ]
  },
  {
   "cell_type": "code",
   "execution_count": 4,
   "id": "7758728b",
   "metadata": {},
   "outputs": [
    {
     "data": {
      "text/plain": [
       "'42'"
      ]
     },
     "execution_count": 4,
     "metadata": {},
     "output_type": "execute_result"
    }
   ],
   "source": [
    "x = 42\n",
    "str(x)"
   ]
  },
  {
   "cell_type": "markdown",
   "id": "4d14c4df",
   "metadata": {},
   "source": [
    "It can be convenient to convert integers to strings if you want to do things like count the number of occurrences of each digit in the number, or check if it is a palindrome."
   ]
  },
  {
   "cell_type": "markdown",
   "id": "95b26913",
   "metadata": {},
   "source": [
    "#### 6.3 \n",
    "Write a function `factorial` which has one parameter `n`, and returns $n!$.\n",
    "\n",
    "\n",
    "Also write a function `sum_lower_odds` which returns the sum of the odd numbers $i$ such that $0 < i < n$."
   ]
  },
  {
   "cell_type": "code",
   "execution_count": 10,
   "id": "eebb0655",
   "metadata": {},
   "outputs": [],
   "source": [
    "def factorial(n):\n",
    "    # use the same idea as all of the \"sum\" for-loops\n",
    "    # but multiplying from 1 instead of adding to 0\n",
    "    product = 1\n",
    "    for i in range(1, n + 1):\n",
    "        product = product * i\n",
    "    return product"
   ]
  },
  {
   "cell_type": "code",
   "execution_count": 12,
   "id": "143bd655",
   "metadata": {},
   "outputs": [],
   "source": [
    "def sum_lower_odds(n):\n",
    "    total = 0\n",
    "    # we can get the odd numbers between 0 and n by choosing our range carefully\n",
    "    for i in range(1, n, 2):\n",
    "        total = total + i\n",
    "    return total"
   ]
  },
  {
   "cell_type": "markdown",
   "id": "2149c943",
   "metadata": {},
   "source": [
    "#### 6.4\n",
    "Write code which asks the user for a number $n$, then outputs $n!$ and the sum of the odd numbers between $0$ and $n$."
   ]
  },
  {
   "cell_type": "code",
   "execution_count": 17,
   "id": "06f723a2",
   "metadata": {},
   "outputs": [
    {
     "name": "stdout",
     "output_type": "stream",
     "text": [
      "Please input a number.\n",
      ">10\n",
      "10 factorial is 3628800 and the sum of the odd numbers between 0 and 10 is 25\n"
     ]
    }
   ],
   "source": [
    "print(\"Please input a number.\")\n",
    "n = int(input(\">\"))\n",
    "\n",
    "# It's good practice to split long function calls over multiple lines\n",
    "# to make the code easier to read.\n",
    "print(n, \"factorial is\", factorial(n),\n",
    "      \"and the sum of the odd numbers between 0 and\", n, \"is\",\n",
    "      sum_lower_odds(n))"
   ]
  },
  {
   "cell_type": "markdown",
   "id": "71d46ce6",
   "metadata": {},
   "source": [
    "# Additional Exercises\n",
    "These are the final exercises of the workshop, and will require you to use all of the main concepts we have talked about!"
   ]
  },
  {
   "cell_type": "markdown",
   "id": "cd12b0a5",
   "metadata": {},
   "source": [
    "## A rainy day\n",
    "In this exercise, we will analyse some rainfall data from a weather station close to St Andrews."
   ]
  },
  {
   "cell_type": "markdown",
   "id": "1ad8861d",
   "metadata": {},
   "source": [
    "The following cell reads in daily rainfall data for Strathkinness (near St Andrews), between August 1st 2020 and August 23rd 2021. This data is published by SEPA under the Open Government License v3.0; you can find the most recent rainfall data [here](https://www2.sepa.org.uk/rainfall/data/index/11368)."
   ]
  },
  {
   "cell_type": "code",
   "execution_count": 19,
   "id": "c8cbc7d8",
   "metadata": {},
   "outputs": [],
   "source": [
    "# the data is contained in a .csv file, and we use the csv module to read it\n",
    "import csv\n",
    "with open('data/strathkiness-rainfall.csv', newline='') as csvfile:\n",
    "    reader = csv.reader(csvfile, delimiter=',')\n",
    "    next(reader) # skip the first entry (the headers)\n",
    "    rain_data = list(reader)  # convert the data to a list"
   ]
  },
  {
   "cell_type": "markdown",
   "id": "538d876b",
   "metadata": {},
   "source": [
    "The variable `rain_data` now contains a list of lists, where each inner list contains two strings representing a date/time, and the amount of rainfall on that day (in millimetres, to 1 decimal place). Output `rain_data[0]` to see an example."
   ]
  },
  {
   "cell_type": "code",
   "execution_count": 20,
   "id": "2f0ffda3",
   "metadata": {},
   "outputs": [
    {
     "data": {
      "text/plain": [
       "['01/08/2020 09:00:00', '0.2']"
      ]
     },
     "execution_count": 20,
     "metadata": {},
     "output_type": "execute_result"
    }
   ],
   "source": [
    "rain_data[0]"
   ]
  },
  {
   "cell_type": "markdown",
   "id": "51c8665a",
   "metadata": {},
   "source": [
    "Use a `for` loop to convert the rainfall numbers into floats. If you make a mistake and damage the data, you can reset it by running the cell which reads it in again."
   ]
  },
  {
   "cell_type": "code",
   "execution_count": 25,
   "id": "3bb5c0da",
   "metadata": {},
   "outputs": [
    {
     "data": {
      "text/plain": [
       "[['01/08/2020 09:00:00', 0.2],\n",
       " ['02/08/2020 09:00:00', 0.0],\n",
       " ['03/08/2020 09:00:00', 2.0]]"
      ]
     },
     "execution_count": 25,
     "metadata": {},
     "output_type": "execute_result"
    }
   ],
   "source": [
    "# loop over the data points\n",
    "for x in rain_data:\n",
    "    # x is now a pair [time_stamp, rainfall]\n",
    "    # we convert the second entry (index 1) to a float\n",
    "    x[1] = float(x[1])\n",
    "    \n",
    "# check\n",
    "rain_data[0:3]"
   ]
  },
  {
   "cell_type": "markdown",
   "id": "f17dbcfe",
   "metadata": {},
   "source": [
    "What was the total rainfall over the period? What was the mean rainfall?"
   ]
  },
  {
   "cell_type": "code",
   "execution_count": 28,
   "id": "9b0a6d1b",
   "metadata": {},
   "outputs": [],
   "source": [
    "total_rainfall = 0\n",
    "for x in rain_data:\n",
    "    total_rainfall = total_rainfall + x[1]"
   ]
  },
  {
   "cell_type": "code",
   "execution_count": 38,
   "id": "67c0d050",
   "metadata": {},
   "outputs": [
    {
     "data": {
      "text/plain": [
       "966.2"
      ]
     },
     "execution_count": 38,
     "metadata": {},
     "output_type": "execute_result"
    }
   ],
   "source": [
    "# output the total rainfall (in mm)\n",
    "# we will round it to 1 decimal place to display, since the data\n",
    "# only has 1 decimal place\n",
    "round(total_rainfall, 1)"
   ]
  },
  {
   "cell_type": "code",
   "execution_count": 39,
   "id": "9a4b7b1b",
   "metadata": {},
   "outputs": [
    {
     "data": {
      "text/plain": [
       "2.5"
      ]
     },
     "execution_count": 39,
     "metadata": {},
     "output_type": "execute_result"
    }
   ],
   "source": [
    "# mean is the total divided by the number of days\n",
    "mean_rainfall = total_rainfall / len(rain_data)\n",
    "\n",
    "# again, display it to 1 decimal place\n",
    "round(mean_rainfall, 1)"
   ]
  },
  {
   "cell_type": "markdown",
   "id": "6eb45e8c",
   "metadata": {},
   "source": [
    "On what proportion of days in this period was there no rainfall?"
   ]
  },
  {
   "cell_type": "code",
   "execution_count": 44,
   "id": "3325b3b0",
   "metadata": {},
   "outputs": [],
   "source": [
    "no_rainfall_count = 0\n",
    "\n",
    "# loop over the data points\n",
    "for x in rain_data:\n",
    "    # increase the count by 1 if there was 0mm of rain that day\n",
    "    if x[1] == 0:\n",
    "        no_rainfall_count = no_rainfall_count + 1"
   ]
  },
  {
   "cell_type": "code",
   "execution_count": 45,
   "id": "660bf857",
   "metadata": {},
   "outputs": [
    {
     "data": {
      "text/plain": [
       "0.43041237113402064"
      ]
     },
     "execution_count": 45,
     "metadata": {},
     "output_type": "execute_result"
    }
   ],
   "source": [
    "# output the proportion of days with no rainfall\n",
    "no_rainfall_count / len(rain_data)"
   ]
  },
  {
   "cell_type": "markdown",
   "id": "8a25dba1",
   "metadata": {},
   "source": [
    "On how many days was there more than 2cm of rainfall?"
   ]
  },
  {
   "cell_type": "code",
   "execution_count": 46,
   "id": "926002b2",
   "metadata": {},
   "outputs": [],
   "source": [
    "# loop over days, adding one whenever we find more than 20mm of rain in a day\n",
    "count_2cm_rain_days = 0\n",
    "for x in rain_data:\n",
    "    if x[1] > 20:\n",
    "        count_2cm_rain_days = count_2cm_rain_days + 1"
   ]
  },
  {
   "cell_type": "code",
   "execution_count": 47,
   "id": "0670293b",
   "metadata": {},
   "outputs": [
    {
     "data": {
      "text/plain": [
       "6"
      ]
     },
     "execution_count": 47,
     "metadata": {},
     "output_type": "execute_result"
    }
   ],
   "source": [
    "count_2cm_rain_days"
   ]
  },
  {
   "cell_type": "markdown",
   "id": "a2711cfc",
   "metadata": {},
   "source": [
    "The rain data represents the amount of rainfall in the 24 hours following each timestamp.\n",
    "\n",
    "During which of these 24 hour periods did the most rainfall occur?"
   ]
  },
  {
   "cell_type": "code",
   "execution_count": 54,
   "id": "c078c55d",
   "metadata": {},
   "outputs": [],
   "source": [
    "# Start with rainiest_index being 0 (the first day).\n",
    "# Loop through the data, and whenever we find a data point with a larger amount of\n",
    "# rain than rainiest_index, replace rainiest_index with the new index.\n",
    "# Since we need an index, we will loop over a range.\n",
    "rainiest_index = 0\n",
    "for i in range(len(rain_data)):\n",
    "    # if there was more rain in this period than the current rainiest\n",
    "    if rain_data[i][1] > rain_data[rainiest_index][1]:\n",
    "        # set the current rainiest_index to be i\n",
    "        rainiest_index = i"
   ]
  },
  {
   "cell_type": "code",
   "execution_count": 56,
   "id": "3682baef",
   "metadata": {},
   "outputs": [
    {
     "data": {
      "text/plain": [
       "'03/10/2020 09:00:00'"
      ]
     },
     "execution_count": 56,
     "metadata": {},
     "output_type": "execute_result"
    }
   ],
   "source": [
    "# output the timestamp of the rainiest index\n",
    "rain_data[rainiest_day][0]"
   ]
  },
  {
   "cell_type": "markdown",
   "id": "78702e95",
   "metadata": {},
   "source": [
    "Write a function `rainfall_in_period` which has two parameters `start` and `stop`. The function should return the total amount of rainfall from the data with index `start` to the data with index `stop` (which should not be included). For example, `rainfall_in_period(0, 10)` should return `20.0` (the sum of the first 10 rainfall values) and `rainfall_in_period(10, 20)` should return `16.6`. "
   ]
  },
  {
   "cell_type": "code",
   "execution_count": 62,
   "id": "2dcc5c5c",
   "metadata": {},
   "outputs": [],
   "source": [
    "def rainfall_in_period(start, stop):\n",
    "    total = 0\n",
    "    # we can loop over the relevant data points by slicing the list\n",
    "    for x in rain_data[start:stop]:\n",
    "        # increase the total rainfall by the current amount\n",
    "        total = total + x[1]\n",
    "    return total"
   ]
  },
  {
   "cell_type": "code",
   "execution_count": 63,
   "id": "3d6e5bdd",
   "metadata": {},
   "outputs": [
    {
     "data": {
      "text/plain": [
       "20.0"
      ]
     },
     "execution_count": 63,
     "metadata": {},
     "output_type": "execute_result"
    }
   ],
   "source": [
    "rainfall_in_period(0, 10)"
   ]
  },
  {
   "cell_type": "code",
   "execution_count": 64,
   "id": "4bd62e22",
   "metadata": {},
   "outputs": [
    {
     "data": {
      "text/plain": [
       "16.6"
      ]
     },
     "execution_count": 64,
     "metadata": {},
     "output_type": "execute_result"
    }
   ],
   "source": [
    "rainfall_in_period(10, 20)"
   ]
  },
  {
   "cell_type": "markdown",
   "id": "9d41c07d",
   "metadata": {},
   "source": [
    "Find the maximum amount of rain that fell in a 7-day period. What date did that period start on?"
   ]
  },
  {
   "cell_type": "code",
   "execution_count": 72,
   "id": "c3f9db84",
   "metadata": {},
   "outputs": [],
   "source": [
    "# we can do basically the same thing as we did to find the rainiest 24-hour period\n",
    "# but now we make use of our function rainfall_in_period\n",
    "\n",
    "# start with the rainiest week beginning at index 0\n",
    "rainiest_week_index = 0\n",
    "# we will also record how much rain occurred in the rainiest week\n",
    "rainiest_week_rainfall = 0\n",
    "\n",
    "# Set the period to be 7 days.\n",
    "# We do this to avoid the number 7 appearing without context in the code later.\n",
    "# If we use \"period\" instead, it will be clearer.\n",
    "period = 7\n",
    "\n",
    "# loop over the other starting dates\n",
    "# we only need to go up to len(rain_data) - period\n",
    "for i in range(1, len(rain_data) - period):\n",
    "    # get the (7-day) rainfall starting with this index\n",
    "    current_rainfall = rainfall_in_period(i, i + period)\n",
    "    \n",
    "    # if there was more rainfall in this period than the current maximum\n",
    "    if current_rainfall > rainiest_week_rainfall:\n",
    "        # update rainiest_week_index and rainiest_week_rainfall\n",
    "        rainiest_week_index = i\n",
    "        rainiest_week_rainfall = current_rainfall"
   ]
  },
  {
   "cell_type": "code",
   "execution_count": 76,
   "id": "018f493d",
   "metadata": {},
   "outputs": [
    {
     "data": {
      "text/plain": [
       "'29/09/2020 09:00:00'"
      ]
     },
     "execution_count": 76,
     "metadata": {},
     "output_type": "execute_result"
    }
   ],
   "source": [
    "# output the start of the rainiest 7-day period\n",
    "rain_data[rainiest_week_index][0]"
   ]
  },
  {
   "cell_type": "code",
   "execution_count": 79,
   "id": "0ea20681",
   "metadata": {},
   "outputs": [
    {
     "data": {
      "text/plain": [
       "107.0"
      ]
     },
     "execution_count": 79,
     "metadata": {},
     "output_type": "execute_result"
    }
   ],
   "source": [
    "# output the amount of rain in that period\n",
    "round(rainiest_week_rainfall, 1)"
   ]
  },
  {
   "cell_type": "markdown",
   "id": "22d2f792",
   "metadata": {},
   "source": [
    "## Random turtles\n",
    "In this exercise, we have a turtle do a \"random walk\" on the screen."
   ]
  },
  {
   "cell_type": "markdown",
   "id": "c706f5b1",
   "metadata": {},
   "source": [
    "The rules of the random walk are simple: at each step, choose a random integer angle between $-90^\\circ$ and $90^\\circ$ to turn by, then pick a random number between 10 and 40 to move forward by. Repeat this until the turtle leaves a box around the centre, then stop.\n",
    "\n",
    "First, write a function `draw_boundary_box` which takes two parameters `turtle` and `margin`, and uses `turtle` to draws a square `margin` units from the edge of the area.\n",
    "\n",
    "Test your function by drawing margins of `20`, `40`, and `60` units.\n",
    "\n",
    "*Hint:* You might need to use the functions `turtle.setposition`, `turtle.penup`, and `turtle.pendown`. Remember that the turtle's area is a square of side-length 400 units with centre at (200, 200), and that coordinates are measured from the top-left corner."
   ]
  },
  {
   "cell_type": "code",
   "execution_count": 97,
   "id": "3843de77",
   "metadata": {},
   "outputs": [],
   "source": [
    "def draw_boundary_box(turtle, margin):\n",
    "    # stop the turtle drawing while we move it into position\n",
    "    turtle.penup()\n",
    "    # move the turtle to the top-left corner of our boundary box\n",
    "    turtle.setposition(margin, margin)\n",
    "    \n",
    "    # the opposite corner is at (400 - margin, 400 - margin)\n",
    "    # so we define a variable to hold this value\n",
    "    opposite_margin = 400 - margin\n",
    "    \n",
    "    # now draw the top line\n",
    "    # from (margin, margin) to (opposite_margin, margin)\n",
    "    turtle.pendown()\n",
    "    turtle.setposition(opposite_margin, margin)\n",
    "    \n",
    "    # draw the right-hand side line\n",
    "    # from (opposite_margin, margin) to (opposite_margin, opposite_margin)\n",
    "    turtle.setposition(opposite_margin, opposite_margin)\n",
    "    \n",
    "    # draw the bottom line\n",
    "    # from (opposite_margin, opposite_margin) to (margin, opposite_margin)\n",
    "    turtle.setposition(margin, opposite_margin)\n",
    "    \n",
    "    # finally, draw the left-hand line\n",
    "    # from (margin, opposite_margin), to (margin, margin)\n",
    "    turtle.setposition(margin, margin)"
   ]
  },
  {
   "cell_type": "code",
   "execution_count": 100,
   "id": "0b94a4ce",
   "metadata": {},
   "outputs": [
    {
     "data": {
      "application/vnd.jupyter.widget-view+json": {
       "model_id": "c9ad37def1da4b1395775044cb2d3a6b",
       "version_major": 2,
       "version_minor": 0
      },
      "text/plain": [
       "Turtle()"
      ]
     },
     "metadata": {},
     "output_type": "display_data"
    }
   ],
   "source": [
    "from mobilechelonian import Turtle\n",
    "terry = Turtle()\n",
    "terry.speed(10)\n",
    "\n",
    "draw_boundary_box(terry, 60)"
   ]
  },
  {
   "cell_type": "markdown",
   "id": "7321c018",
   "metadata": {},
   "source": [
    "Write a function `random_step` which takes one parameter `turtle`, and performs one step of the random walk defined above (i.e. turn by $-90^\\circ$ to $90^\\circ$ then move `turtle` forward by 10 to 40 units). Test your function by having a turtle perform ten steps of the random walk.\n",
    "\n",
    "**Note:** you can choose an integer randomly from an interval $[a,b]$ using the `randint` function in the `random` module; search for \"Python randint documentation\" to find out how it works."
   ]
  },
  {
   "cell_type": "code",
   "execution_count": 102,
   "id": "8fdf727a",
   "metadata": {},
   "outputs": [],
   "source": [
    "# get the randint function\n",
    "from random import randint\n",
    "\n",
    "def random_step(turtle):\n",
    "    # turn left by -90 to 90 degrees\n",
    "    turtle.left(randint(-90, 90))\n",
    "    # move forward by 10 to 40 units\n",
    "    turtle.forward(randint(10, 40))"
   ]
  },
  {
   "cell_type": "code",
   "execution_count": 106,
   "id": "2d90653e",
   "metadata": {},
   "outputs": [
    {
     "data": {
      "application/vnd.jupyter.widget-view+json": {
       "model_id": "a5004167091d42a99b7f477cda9eeca0",
       "version_major": 2,
       "version_minor": 0
      },
      "text/plain": [
       "Turtle()"
      ]
     },
     "metadata": {},
     "output_type": "display_data"
    }
   ],
   "source": [
    "# test it out with a turtle\n",
    "\n",
    "terry = Turtle()\n",
    "terry.speed(10)\n",
    "\n",
    "# have terry perform ten random steps\n",
    "for i in range(10):\n",
    "    random_step(terry)"
   ]
  },
  {
   "cell_type": "markdown",
   "id": "cd27091b",
   "metadata": {},
   "source": [
    "Write a function `is_turtle_in_box` which takes two parameters `turtle` and `margin`, and returns `True` if the turtle is within the box defined by the `margin`, and `False` otherwise. Test your code with different margins and different positions for the turtle.\n",
    "\n",
    "**Note:** the turtle's $x$- and $y$-coordinates are stored in the variables `turtle.posX` and `turtle.posY`. You should work out the conditions that need to be tested using pen and paper before writing your code."
   ]
  },
  {
   "cell_type": "code",
   "execution_count": 109,
   "id": "2be34292",
   "metadata": {},
   "outputs": [],
   "source": [
    "def is_turtle_in_box(turtle, margin):\n",
    "    # if the turtle's coordinates are (x, y), it is in the box if and only if:\n",
    "    # x is greater than margin AND\n",
    "    # y is greater than margin AND\n",
    "    # x is less than 400 - margin AND\n",
    "    # y is less than 400 - margin\n",
    "\n",
    "    opposite_margin = 400 - margin\n",
    "    x = turtle.posX\n",
    "    y = turtle.posY\n",
    "    \n",
    "    # we can split over multiple lines for readability\n",
    "    # if we enclose the condition in brackets\n",
    "    return (x > margin\n",
    "            and y > margin\n",
    "            and x < opposite_margin\n",
    "            and y < opposite_margin)"
   ]
  },
  {
   "cell_type": "markdown",
   "id": "3640f3c2",
   "metadata": {},
   "source": [
    "Now we test our function by moving a turtle around to specific positions and calling `is_turtle_in_box`."
   ]
  },
  {
   "cell_type": "code",
   "execution_count": 111,
   "id": "4e9ffe88",
   "metadata": {},
   "outputs": [
    {
     "data": {
      "application/vnd.jupyter.widget-view+json": {
       "model_id": "063544f168a9437cb8d78e43a0f685aa",
       "version_major": 2,
       "version_minor": 0
      },
      "text/plain": [
       "Turtle()"
      ]
     },
     "metadata": {},
     "output_type": "display_data"
    }
   ],
   "source": [
    "terry = Turtle()\n",
    "terry.speed(10)\n",
    "terry.penup()\n",
    "terry.setposition(10, 10)"
   ]
  },
  {
   "cell_type": "code",
   "execution_count": 112,
   "id": "a3985584",
   "metadata": {},
   "outputs": [
    {
     "data": {
      "text/plain": [
       "False"
      ]
     },
     "execution_count": 112,
     "metadata": {},
     "output_type": "execute_result"
    }
   ],
   "source": [
    "is_turtle_in_box(terry, 20)"
   ]
  },
  {
   "cell_type": "code",
   "execution_count": 113,
   "id": "fa93070d",
   "metadata": {},
   "outputs": [
    {
     "data": {
      "text/plain": [
       "False"
      ]
     },
     "execution_count": 113,
     "metadata": {},
     "output_type": "execute_result"
    }
   ],
   "source": [
    "is_turtle_in_box(terry, 10)"
   ]
  },
  {
   "cell_type": "code",
   "execution_count": 117,
   "id": "e7ea9560",
   "metadata": {},
   "outputs": [
    {
     "data": {
      "text/plain": [
       "False"
      ]
     },
     "execution_count": 117,
     "metadata": {},
     "output_type": "execute_result"
    }
   ],
   "source": [
    "terry.setposition(10, 200)\n",
    "is_turtle_in_box(terry, 20)"
   ]
  },
  {
   "cell_type": "code",
   "execution_count": 118,
   "id": "0c9a6725",
   "metadata": {},
   "outputs": [
    {
     "data": {
      "text/plain": [
       "True"
      ]
     },
     "execution_count": 118,
     "metadata": {},
     "output_type": "execute_result"
    }
   ],
   "source": [
    "is_turtle_in_box(terry, 5)"
   ]
  },
  {
   "cell_type": "code",
   "execution_count": 119,
   "id": "57769fa1",
   "metadata": {},
   "outputs": [
    {
     "data": {
      "text/plain": [
       "True"
      ]
     },
     "execution_count": 119,
     "metadata": {},
     "output_type": "execute_result"
    }
   ],
   "source": [
    "terry.setposition(20, 100)\n",
    "is_turtle_in_box(terry, 10)"
   ]
  },
  {
   "cell_type": "markdown",
   "id": "2d62ff3b",
   "metadata": {},
   "source": [
    "Set `margin = 40`, and draw a bounding box using this margin.\n",
    "Move the turtle back to the centre.\n",
    "\n",
    "Using a `while` loop and your function `is_turtle_in_box`, have a turtle randomly walk around the screen until it leaves the bounding box."
   ]
  },
  {
   "cell_type": "code",
   "execution_count": 122,
   "id": "a74e55c0",
   "metadata": {},
   "outputs": [
    {
     "data": {
      "application/vnd.jupyter.widget-view+json": {
       "model_id": "a66ece18007e4064a9973c5e268f939e",
       "version_major": 2,
       "version_minor": 0
      },
      "text/plain": [
       "Turtle()"
      ]
     },
     "metadata": {},
     "output_type": "display_data"
    }
   ],
   "source": [
    "margin = 40\n",
    "\n",
    "terry = Turtle()\n",
    "terry.speed(10)\n",
    "\n",
    "draw_boundary_box(terry, margin)\n",
    "\n",
    "# move back to the centre without drawing a line\n",
    "terry.penup()\n",
    "terry.home()\n",
    "terry.pendown()\n",
    "\n",
    "# perform a random walk until terry leaves the box\n",
    "while is_turtle_in_box(terry, margin):\n",
    "    random_step(terry)"
   ]
  },
  {
   "cell_type": "markdown",
   "id": "86fb6e19",
   "metadata": {},
   "source": [
    "Create a `list` called `colours` of five colour names from [this list](https://www.w3schools.com/colors/colors_names.asp). Have your turtle cycle through the colours in the list as they walk.\n",
    "\n",
    "*Hint:* use modular arithmetic."
   ]
  },
  {
   "cell_type": "code",
   "execution_count": 124,
   "id": "a5169b79",
   "metadata": {},
   "outputs": [],
   "source": [
    "colours = [\"DarkSeaGreen\", \"DeepPink\", \"Gold\", \"SandyBrown\", \"Navy\"]"
   ]
  },
  {
   "cell_type": "code",
   "execution_count": 132,
   "id": "2ea3975d",
   "metadata": {},
   "outputs": [
    {
     "data": {
      "application/vnd.jupyter.widget-view+json": {
       "model_id": "1cb232a04bba4c1fa271e8c67f3beeac",
       "version_major": 2,
       "version_minor": 0
      },
      "text/plain": [
       "Turtle()"
      ]
     },
     "metadata": {},
     "output_type": "display_data"
    }
   ],
   "source": [
    "margin = 40\n",
    "\n",
    "terry = Turtle()\n",
    "terry.speed(10)\n",
    "\n",
    "draw_boundary_box(terry, margin)\n",
    "\n",
    "# move back to the centre without drawing a line\n",
    "terry.penup()\n",
    "terry.home()\n",
    "terry.pendown()\n",
    "\n",
    "# perform a random walk until terry leaves the box\n",
    "# use a counter to cycle between the colours using modular arithmetic\n",
    "count = 0\n",
    "terry.pencolor(colours[count])\n",
    "while is_turtle_in_box(terry, margin):\n",
    "    random_step(terry)\n",
    "    count = count + 1\n",
    "    terry.pencolor(colours[count % len(colours)])"
   ]
  },
  {
   "cell_type": "markdown",
   "id": "6d7d3803",
   "metadata": {},
   "source": [
    "Carry out this process of random walks from the center of the area $10$ times. Record in a list `nr_steps` the number of steps required to leave the area each time.\n",
    "\n",
    "**Note:** if this is taking too long you could have your turtle take larger steps."
   ]
  },
  {
   "cell_type": "code",
   "execution_count": 128,
   "id": "6a123dfc",
   "metadata": {},
   "outputs": [
    {
     "data": {
      "application/vnd.jupyter.widget-view+json": {
       "model_id": "2ac1555ae1b54393a15e2306df268e02",
       "version_major": 2,
       "version_minor": 0
      },
      "text/plain": [
       "Turtle()"
      ]
     },
     "metadata": {},
     "output_type": "display_data"
    }
   ],
   "source": [
    "margin = 40\n",
    "\n",
    "terry = Turtle()\n",
    "terry.speed(10)\n",
    "\n",
    "draw_boundary_box(terry, margin)\n",
    "\n",
    "# perform the random walk 10 times, recording the number of steps each time\n",
    "nr_steps = []\n",
    "for i in range(10):\n",
    "    # set terry's position back to the start\n",
    "    terry.penup()\n",
    "    terry.home()\n",
    "    terry.pendown()\n",
    "    \n",
    "    # perform a random walk until terry leaves the box\n",
    "    # use a counter to cycle between the colours using modular arithmetic\n",
    "    count = 0\n",
    "    terry.pencolor(colours[count])\n",
    "    while is_turtle_in_box(terry, margin):\n",
    "        random_step(terry)\n",
    "        count = count + 1\n",
    "        terry.pencolor(colours[count % len(colours)])\n",
    "        \n",
    "    # append the number of steps taken to the list\n",
    "    nr_steps.append(count)"
   ]
  },
  {
   "cell_type": "markdown",
   "id": "fe87297d",
   "metadata": {},
   "source": [
    "What is the largest number of steps taken in the area? What is the smallest?\n",
    "\n",
    "*Hint:* look up the `min` and `max` functions."
   ]
  },
  {
   "cell_type": "code",
   "execution_count": 129,
   "id": "aff383dd",
   "metadata": {},
   "outputs": [
    {
     "data": {
      "text/plain": [
       "[12, 67, 9, 13, 28, 11, 39, 27, 19, 9]"
      ]
     },
     "execution_count": 129,
     "metadata": {},
     "output_type": "execute_result"
    }
   ],
   "source": [
    "nr_steps"
   ]
  },
  {
   "cell_type": "code",
   "execution_count": 130,
   "id": "508ca7a5",
   "metadata": {},
   "outputs": [
    {
     "data": {
      "text/plain": [
       "67"
      ]
     },
     "execution_count": 130,
     "metadata": {},
     "output_type": "execute_result"
    }
   ],
   "source": [
    "max(nr_steps)"
   ]
  },
  {
   "cell_type": "code",
   "execution_count": 131,
   "id": "5ddc0d02",
   "metadata": {},
   "outputs": [
    {
     "data": {
      "text/plain": [
       "9"
      ]
     },
     "execution_count": 131,
     "metadata": {},
     "output_type": "execute_result"
    }
   ],
   "source": [
    "min(nr_steps)"
   ]
  }
 ],
 "metadata": {
  "kernelspec": {
   "display_name": "Python 3",
   "language": "python",
   "name": "python3"
  },
  "language_info": {
   "codemirror_mode": {
    "name": "ipython",
    "version": 3
   },
   "file_extension": ".py",
   "mimetype": "text/x-python",
   "name": "python",
   "nbconvert_exporter": "python",
   "pygments_lexer": "ipython3",
   "version": "3.8.10"
  }
 },
 "nbformat": 4,
 "nbformat_minor": 5
}
